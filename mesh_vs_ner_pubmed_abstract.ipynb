{
  "nbformat": 4,
  "nbformat_minor": 0,
  "metadata": {
    "colab": {
      "name": "mesh_vs_ner_pubmed_abstract.ipynb",
      "provenance": [],
      "collapsed_sections": [
        "W4MpSGkEV107",
        "h5FZ9R7YV8xa",
        "gFmAM4b-Wh2i",
        "uCNymwruWXqk",
        "HN6VS4zsFGZI",
        "drQU0kWblFTi",
        "e8a5l-Fjl_IK"
      ],
      "authorship_tag": "ABX9TyPOtQg5mFr+efawGiIvq1qw",
      "include_colab_link": true
    },
    "kernelspec": {
      "name": "python3",
      "display_name": "Python 3"
    },
    "language_info": {
      "name": "python"
    }
  },
  "cells": [
    {
      "cell_type": "markdown",
      "metadata": {
        "id": "view-in-github",
        "colab_type": "text"
      },
      "source": [
        "<a href=\"https://colab.research.google.com/github/akshayonly/BioNER-MeSH-Net-Graph/blob/main/mesh_vs_ner_pubmed_abstract.ipynb\" target=\"_parent\"><img src=\"https://colab.research.google.com/assets/colab-badge.svg\" alt=\"Open In Colab\"/></a>"
      ]
    },
    {
      "cell_type": "markdown",
      "source": [
        "# Visualizing Scientific Articles as a Network Graph\n",
        "\n",
        "In this article, we'd explore BioNER and MeSH terms for building and visualizing network graphs of any PubMed articles."
      ],
      "metadata": {
        "id": "HVnAW_FwTqo9"
      }
    },
    {
      "cell_type": "markdown",
      "source": [
        "CONTENT\n",
        "1. Introduction\n",
        "2. PubMed, Medline & Entrez\n",
        "3. Medical subject headings (MeSH)\n",
        "4. Biological Named-entity recognition (BioNER)\n",
        "5. Building & Visualising Graphs with Networkx & Pyvis\n",
        "6. Abstract as Network Graph\n",
        "7. MeSH terms as Network Graph\n",
        "8. Conclusion\n",
        "9. Summary\n",
        "10. References"
      ],
      "metadata": {
        "id": "lW6p0QK6s4ic"
      }
    },
    {
      "cell_type": "markdown",
      "source": [
        "## Introduction"
      ],
      "metadata": {
        "id": "W4MpSGkEV107"
      }
    },
    {
      "cell_type": "code",
      "source": [
        "# Pass"
      ],
      "metadata": {
        "id": "wmAYQLiGV4KK"
      },
      "execution_count": 1,
      "outputs": []
    },
    {
      "cell_type": "markdown",
      "source": [
        "## PubMed, Medline & Entrez"
      ],
      "metadata": {
        "id": "h5FZ9R7YV8xa"
      }
    },
    {
      "cell_type": "code",
      "source": [
        "!pip install -q biopython"
      ],
      "metadata": {
        "id": "aE8J1l34V9hh",
        "colab": {
          "base_uri": "https://localhost:8080/"
        },
        "outputId": "4c98f5b9-a5b3-4c62-9081-01f8773cad80"
      },
      "execution_count": 2,
      "outputs": [
        {
          "output_type": "stream",
          "name": "stdout",
          "text": [
            "\u001b[?25l\r\u001b[K     |▏                               | 10 kB 16.7 MB/s eta 0:00:01\r\u001b[K     |▎                               | 20 kB 21.5 MB/s eta 0:00:01\r\u001b[K     |▍                               | 30 kB 25.0 MB/s eta 0:00:01\r\u001b[K     |▋                               | 40 kB 15.7 MB/s eta 0:00:01\r\u001b[K     |▊                               | 51 kB 14.0 MB/s eta 0:00:01\r\u001b[K     |▉                               | 61 kB 15.8 MB/s eta 0:00:01\r\u001b[K     |█                               | 71 kB 14.6 MB/s eta 0:00:01\r\u001b[K     |█▏                              | 81 kB 15.7 MB/s eta 0:00:01\r\u001b[K     |█▎                              | 92 kB 17.1 MB/s eta 0:00:01\r\u001b[K     |█▍                              | 102 kB 16.3 MB/s eta 0:00:01\r\u001b[K     |█▋                              | 112 kB 16.3 MB/s eta 0:00:01\r\u001b[K     |█▊                              | 122 kB 16.3 MB/s eta 0:00:01\r\u001b[K     |█▉                              | 133 kB 16.3 MB/s eta 0:00:01\r\u001b[K     |██                              | 143 kB 16.3 MB/s eta 0:00:01\r\u001b[K     |██▏                             | 153 kB 16.3 MB/s eta 0:00:01\r\u001b[K     |██▎                             | 163 kB 16.3 MB/s eta 0:00:01\r\u001b[K     |██▍                             | 174 kB 16.3 MB/s eta 0:00:01\r\u001b[K     |██▋                             | 184 kB 16.3 MB/s eta 0:00:01\r\u001b[K     |██▊                             | 194 kB 16.3 MB/s eta 0:00:01\r\u001b[K     |██▉                             | 204 kB 16.3 MB/s eta 0:00:01\r\u001b[K     |███                             | 215 kB 16.3 MB/s eta 0:00:01\r\u001b[K     |███▏                            | 225 kB 16.3 MB/s eta 0:00:01\r\u001b[K     |███▎                            | 235 kB 16.3 MB/s eta 0:00:01\r\u001b[K     |███▌                            | 245 kB 16.3 MB/s eta 0:00:01\r\u001b[K     |███▋                            | 256 kB 16.3 MB/s eta 0:00:01\r\u001b[K     |███▊                            | 266 kB 16.3 MB/s eta 0:00:01\r\u001b[K     |███▉                            | 276 kB 16.3 MB/s eta 0:00:01\r\u001b[K     |████                            | 286 kB 16.3 MB/s eta 0:00:01\r\u001b[K     |████▏                           | 296 kB 16.3 MB/s eta 0:00:01\r\u001b[K     |████▎                           | 307 kB 16.3 MB/s eta 0:00:01\r\u001b[K     |████▌                           | 317 kB 16.3 MB/s eta 0:00:01\r\u001b[K     |████▋                           | 327 kB 16.3 MB/s eta 0:00:01\r\u001b[K     |████▊                           | 337 kB 16.3 MB/s eta 0:00:01\r\u001b[K     |████▉                           | 348 kB 16.3 MB/s eta 0:00:01\r\u001b[K     |█████                           | 358 kB 16.3 MB/s eta 0:00:01\r\u001b[K     |█████▏                          | 368 kB 16.3 MB/s eta 0:00:01\r\u001b[K     |█████▎                          | 378 kB 16.3 MB/s eta 0:00:01\r\u001b[K     |█████▌                          | 389 kB 16.3 MB/s eta 0:00:01\r\u001b[K     |█████▋                          | 399 kB 16.3 MB/s eta 0:00:01\r\u001b[K     |█████▊                          | 409 kB 16.3 MB/s eta 0:00:01\r\u001b[K     |██████                          | 419 kB 16.3 MB/s eta 0:00:01\r\u001b[K     |██████                          | 430 kB 16.3 MB/s eta 0:00:01\r\u001b[K     |██████▏                         | 440 kB 16.3 MB/s eta 0:00:01\r\u001b[K     |██████▎                         | 450 kB 16.3 MB/s eta 0:00:01\r\u001b[K     |██████▌                         | 460 kB 16.3 MB/s eta 0:00:01\r\u001b[K     |██████▋                         | 471 kB 16.3 MB/s eta 0:00:01\r\u001b[K     |██████▊                         | 481 kB 16.3 MB/s eta 0:00:01\r\u001b[K     |███████                         | 491 kB 16.3 MB/s eta 0:00:01\r\u001b[K     |███████                         | 501 kB 16.3 MB/s eta 0:00:01\r\u001b[K     |███████▏                        | 512 kB 16.3 MB/s eta 0:00:01\r\u001b[K     |███████▎                        | 522 kB 16.3 MB/s eta 0:00:01\r\u001b[K     |███████▌                        | 532 kB 16.3 MB/s eta 0:00:01\r\u001b[K     |███████▋                        | 542 kB 16.3 MB/s eta 0:00:01\r\u001b[K     |███████▊                        | 552 kB 16.3 MB/s eta 0:00:01\r\u001b[K     |████████                        | 563 kB 16.3 MB/s eta 0:00:01\r\u001b[K     |████████                        | 573 kB 16.3 MB/s eta 0:00:01\r\u001b[K     |████████▏                       | 583 kB 16.3 MB/s eta 0:00:01\r\u001b[K     |████████▍                       | 593 kB 16.3 MB/s eta 0:00:01\r\u001b[K     |████████▌                       | 604 kB 16.3 MB/s eta 0:00:01\r\u001b[K     |████████▋                       | 614 kB 16.3 MB/s eta 0:00:01\r\u001b[K     |████████▊                       | 624 kB 16.3 MB/s eta 0:00:01\r\u001b[K     |█████████                       | 634 kB 16.3 MB/s eta 0:00:01\r\u001b[K     |█████████                       | 645 kB 16.3 MB/s eta 0:00:01\r\u001b[K     |█████████▏                      | 655 kB 16.3 MB/s eta 0:00:01\r\u001b[K     |█████████▍                      | 665 kB 16.3 MB/s eta 0:00:01\r\u001b[K     |█████████▌                      | 675 kB 16.3 MB/s eta 0:00:01\r\u001b[K     |█████████▋                      | 686 kB 16.3 MB/s eta 0:00:01\r\u001b[K     |█████████▊                      | 696 kB 16.3 MB/s eta 0:00:01\r\u001b[K     |██████████                      | 706 kB 16.3 MB/s eta 0:00:01\r\u001b[K     |██████████                      | 716 kB 16.3 MB/s eta 0:00:01\r\u001b[K     |██████████▏                     | 727 kB 16.3 MB/s eta 0:00:01\r\u001b[K     |██████████▍                     | 737 kB 16.3 MB/s eta 0:00:01\r\u001b[K     |██████████▌                     | 747 kB 16.3 MB/s eta 0:00:01\r\u001b[K     |██████████▋                     | 757 kB 16.3 MB/s eta 0:00:01\r\u001b[K     |██████████▉                     | 768 kB 16.3 MB/s eta 0:00:01\r\u001b[K     |███████████                     | 778 kB 16.3 MB/s eta 0:00:01\r\u001b[K     |███████████                     | 788 kB 16.3 MB/s eta 0:00:01\r\u001b[K     |███████████▏                    | 798 kB 16.3 MB/s eta 0:00:01\r\u001b[K     |███████████▍                    | 808 kB 16.3 MB/s eta 0:00:01\r\u001b[K     |███████████▌                    | 819 kB 16.3 MB/s eta 0:00:01\r\u001b[K     |███████████▋                    | 829 kB 16.3 MB/s eta 0:00:01\r\u001b[K     |███████████▉                    | 839 kB 16.3 MB/s eta 0:00:01\r\u001b[K     |████████████                    | 849 kB 16.3 MB/s eta 0:00:01\r\u001b[K     |████████████                    | 860 kB 16.3 MB/s eta 0:00:01\r\u001b[K     |████████████▏                   | 870 kB 16.3 MB/s eta 0:00:01\r\u001b[K     |████████████▍                   | 880 kB 16.3 MB/s eta 0:00:01\r\u001b[K     |████████████▌                   | 890 kB 16.3 MB/s eta 0:00:01\r\u001b[K     |████████████▋                   | 901 kB 16.3 MB/s eta 0:00:01\r\u001b[K     |████████████▉                   | 911 kB 16.3 MB/s eta 0:00:01\r\u001b[K     |█████████████                   | 921 kB 16.3 MB/s eta 0:00:01\r\u001b[K     |█████████████                   | 931 kB 16.3 MB/s eta 0:00:01\r\u001b[K     |█████████████▎                  | 942 kB 16.3 MB/s eta 0:00:01\r\u001b[K     |█████████████▍                  | 952 kB 16.3 MB/s eta 0:00:01\r\u001b[K     |█████████████▌                  | 962 kB 16.3 MB/s eta 0:00:01\r\u001b[K     |█████████████▋                  | 972 kB 16.3 MB/s eta 0:00:01\r\u001b[K     |█████████████▉                  | 983 kB 16.3 MB/s eta 0:00:01\r\u001b[K     |██████████████                  | 993 kB 16.3 MB/s eta 0:00:01\r\u001b[K     |██████████████                  | 1.0 MB 16.3 MB/s eta 0:00:01\r\u001b[K     |██████████████▎                 | 1.0 MB 16.3 MB/s eta 0:00:01\r\u001b[K     |██████████████▍                 | 1.0 MB 16.3 MB/s eta 0:00:01\r\u001b[K     |██████████████▌                 | 1.0 MB 16.3 MB/s eta 0:00:01\r\u001b[K     |██████████████▋                 | 1.0 MB 16.3 MB/s eta 0:00:01\r\u001b[K     |██████████████▉                 | 1.1 MB 16.3 MB/s eta 0:00:01\r\u001b[K     |███████████████                 | 1.1 MB 16.3 MB/s eta 0:00:01\r\u001b[K     |███████████████                 | 1.1 MB 16.3 MB/s eta 0:00:01\r\u001b[K     |███████████████▎                | 1.1 MB 16.3 MB/s eta 0:00:01\r\u001b[K     |███████████████▍                | 1.1 MB 16.3 MB/s eta 0:00:01\r\u001b[K     |███████████████▌                | 1.1 MB 16.3 MB/s eta 0:00:01\r\u001b[K     |███████████████▊                | 1.1 MB 16.3 MB/s eta 0:00:01\r\u001b[K     |███████████████▉                | 1.1 MB 16.3 MB/s eta 0:00:01\r\u001b[K     |████████████████                | 1.1 MB 16.3 MB/s eta 0:00:01\r\u001b[K     |████████████████                | 1.1 MB 16.3 MB/s eta 0:00:01\r\u001b[K     |████████████████▎               | 1.2 MB 16.3 MB/s eta 0:00:01\r\u001b[K     |████████████████▍               | 1.2 MB 16.3 MB/s eta 0:00:01\r\u001b[K     |████████████████▌               | 1.2 MB 16.3 MB/s eta 0:00:01\r\u001b[K     |████████████████▊               | 1.2 MB 16.3 MB/s eta 0:00:01\r\u001b[K     |████████████████▉               | 1.2 MB 16.3 MB/s eta 0:00:01\r\u001b[K     |█████████████████               | 1.2 MB 16.3 MB/s eta 0:00:01\r\u001b[K     |█████████████████               | 1.2 MB 16.3 MB/s eta 0:00:01\r\u001b[K     |█████████████████▎              | 1.2 MB 16.3 MB/s eta 0:00:01\r\u001b[K     |█████████████████▍              | 1.2 MB 16.3 MB/s eta 0:00:01\r\u001b[K     |█████████████████▌              | 1.2 MB 16.3 MB/s eta 0:00:01\r\u001b[K     |█████████████████▊              | 1.3 MB 16.3 MB/s eta 0:00:01\r\u001b[K     |█████████████████▉              | 1.3 MB 16.3 MB/s eta 0:00:01\r\u001b[K     |██████████████████              | 1.3 MB 16.3 MB/s eta 0:00:01\r\u001b[K     |██████████████████▏             | 1.3 MB 16.3 MB/s eta 0:00:01\r\u001b[K     |██████████████████▎             | 1.3 MB 16.3 MB/s eta 0:00:01\r\u001b[K     |██████████████████▍             | 1.3 MB 16.3 MB/s eta 0:00:01\r\u001b[K     |██████████████████▌             | 1.3 MB 16.3 MB/s eta 0:00:01\r\u001b[K     |██████████████████▊             | 1.3 MB 16.3 MB/s eta 0:00:01\r\u001b[K     |██████████████████▉             | 1.3 MB 16.3 MB/s eta 0:00:01\r\u001b[K     |███████████████████             | 1.4 MB 16.3 MB/s eta 0:00:01\r\u001b[K     |███████████████████▏            | 1.4 MB 16.3 MB/s eta 0:00:01\r\u001b[K     |███████████████████▎            | 1.4 MB 16.3 MB/s eta 0:00:01\r\u001b[K     |███████████████████▍            | 1.4 MB 16.3 MB/s eta 0:00:01\r\u001b[K     |███████████████████▌            | 1.4 MB 16.3 MB/s eta 0:00:01\r\u001b[K     |███████████████████▊            | 1.4 MB 16.3 MB/s eta 0:00:01\r\u001b[K     |███████████████████▉            | 1.4 MB 16.3 MB/s eta 0:00:01\r\u001b[K     |████████████████████            | 1.4 MB 16.3 MB/s eta 0:00:01\r\u001b[K     |████████████████████▏           | 1.4 MB 16.3 MB/s eta 0:00:01\r\u001b[K     |████████████████████▎           | 1.4 MB 16.3 MB/s eta 0:00:01\r\u001b[K     |████████████████████▍           | 1.5 MB 16.3 MB/s eta 0:00:01\r\u001b[K     |████████████████████▋           | 1.5 MB 16.3 MB/s eta 0:00:01\r\u001b[K     |████████████████████▊           | 1.5 MB 16.3 MB/s eta 0:00:01\r\u001b[K     |████████████████████▉           | 1.5 MB 16.3 MB/s eta 0:00:01\r\u001b[K     |█████████████████████           | 1.5 MB 16.3 MB/s eta 0:00:01\r\u001b[K     |█████████████████████▏          | 1.5 MB 16.3 MB/s eta 0:00:01\r\u001b[K     |█████████████████████▎          | 1.5 MB 16.3 MB/s eta 0:00:01\r\u001b[K     |█████████████████████▍          | 1.5 MB 16.3 MB/s eta 0:00:01\r\u001b[K     |█████████████████████▋          | 1.5 MB 16.3 MB/s eta 0:00:01\r\u001b[K     |█████████████████████▊          | 1.5 MB 16.3 MB/s eta 0:00:01\r\u001b[K     |█████████████████████▉          | 1.6 MB 16.3 MB/s eta 0:00:01\r\u001b[K     |██████████████████████          | 1.6 MB 16.3 MB/s eta 0:00:01\r\u001b[K     |██████████████████████▏         | 1.6 MB 16.3 MB/s eta 0:00:01\r\u001b[K     |██████████████████████▎         | 1.6 MB 16.3 MB/s eta 0:00:01\r\u001b[K     |██████████████████████▍         | 1.6 MB 16.3 MB/s eta 0:00:01\r\u001b[K     |██████████████████████▋         | 1.6 MB 16.3 MB/s eta 0:00:01\r\u001b[K     |██████████████████████▊         | 1.6 MB 16.3 MB/s eta 0:00:01\r\u001b[K     |██████████████████████▉         | 1.6 MB 16.3 MB/s eta 0:00:01\r\u001b[K     |███████████████████████         | 1.6 MB 16.3 MB/s eta 0:00:01\r\u001b[K     |███████████████████████▏        | 1.6 MB 16.3 MB/s eta 0:00:01\r\u001b[K     |███████████████████████▎        | 1.7 MB 16.3 MB/s eta 0:00:01\r\u001b[K     |███████████████████████▍        | 1.7 MB 16.3 MB/s eta 0:00:01\r\u001b[K     |███████████████████████▋        | 1.7 MB 16.3 MB/s eta 0:00:01\r\u001b[K     |███████████████████████▊        | 1.7 MB 16.3 MB/s eta 0:00:01\r\u001b[K     |███████████████████████▉        | 1.7 MB 16.3 MB/s eta 0:00:01\r\u001b[K     |████████████████████████        | 1.7 MB 16.3 MB/s eta 0:00:01\r\u001b[K     |████████████████████████▏       | 1.7 MB 16.3 MB/s eta 0:00:01\r\u001b[K     |████████████████████████▎       | 1.7 MB 16.3 MB/s eta 0:00:01\r\u001b[K     |████████████████████████▍       | 1.7 MB 16.3 MB/s eta 0:00:01\r\u001b[K     |████████████████████████▋       | 1.8 MB 16.3 MB/s eta 0:00:01\r\u001b[K     |████████████████████████▊       | 1.8 MB 16.3 MB/s eta 0:00:01\r\u001b[K     |████████████████████████▉       | 1.8 MB 16.3 MB/s eta 0:00:01\r\u001b[K     |█████████████████████████       | 1.8 MB 16.3 MB/s eta 0:00:01\r\u001b[K     |█████████████████████████▏      | 1.8 MB 16.3 MB/s eta 0:00:01\r\u001b[K     |█████████████████████████▎      | 1.8 MB 16.3 MB/s eta 0:00:01\r\u001b[K     |█████████████████████████▌      | 1.8 MB 16.3 MB/s eta 0:00:01\r\u001b[K     |█████████████████████████▋      | 1.8 MB 16.3 MB/s eta 0:00:01\r\u001b[K     |█████████████████████████▊      | 1.8 MB 16.3 MB/s eta 0:00:01\r\u001b[K     |█████████████████████████▉      | 1.8 MB 16.3 MB/s eta 0:00:01\r\u001b[K     |██████████████████████████      | 1.9 MB 16.3 MB/s eta 0:00:01\r\u001b[K     |██████████████████████████▏     | 1.9 MB 16.3 MB/s eta 0:00:01\r\u001b[K     |██████████████████████████▎     | 1.9 MB 16.3 MB/s eta 0:00:01\r\u001b[K     |██████████████████████████▌     | 1.9 MB 16.3 MB/s eta 0:00:01\r\u001b[K     |██████████████████████████▋     | 1.9 MB 16.3 MB/s eta 0:00:01\r\u001b[K     |██████████████████████████▊     | 1.9 MB 16.3 MB/s eta 0:00:01\r\u001b[K     |██████████████████████████▉     | 1.9 MB 16.3 MB/s eta 0:00:01\r\u001b[K     |███████████████████████████     | 1.9 MB 16.3 MB/s eta 0:00:01\r\u001b[K     |███████████████████████████▏    | 1.9 MB 16.3 MB/s eta 0:00:01\r\u001b[K     |███████████████████████████▎    | 1.9 MB 16.3 MB/s eta 0:00:01\r\u001b[K     |███████████████████████████▌    | 2.0 MB 16.3 MB/s eta 0:00:01\r\u001b[K     |███████████████████████████▋    | 2.0 MB 16.3 MB/s eta 0:00:01\r\u001b[K     |███████████████████████████▊    | 2.0 MB 16.3 MB/s eta 0:00:01\r\u001b[K     |████████████████████████████    | 2.0 MB 16.3 MB/s eta 0:00:01\r\u001b[K     |████████████████████████████    | 2.0 MB 16.3 MB/s eta 0:00:01\r\u001b[K     |████████████████████████████▏   | 2.0 MB 16.3 MB/s eta 0:00:01\r\u001b[K     |████████████████████████████▎   | 2.0 MB 16.3 MB/s eta 0:00:01\r\u001b[K     |████████████████████████████▌   | 2.0 MB 16.3 MB/s eta 0:00:01\r\u001b[K     |████████████████████████████▋   | 2.0 MB 16.3 MB/s eta 0:00:01\r\u001b[K     |████████████████████████████▊   | 2.0 MB 16.3 MB/s eta 0:00:01\r\u001b[K     |█████████████████████████████   | 2.1 MB 16.3 MB/s eta 0:00:01\r\u001b[K     |█████████████████████████████   | 2.1 MB 16.3 MB/s eta 0:00:01\r\u001b[K     |█████████████████████████████▏  | 2.1 MB 16.3 MB/s eta 0:00:01\r\u001b[K     |█████████████████████████████▎  | 2.1 MB 16.3 MB/s eta 0:00:01\r\u001b[K     |█████████████████████████████▌  | 2.1 MB 16.3 MB/s eta 0:00:01\r\u001b[K     |█████████████████████████████▋  | 2.1 MB 16.3 MB/s eta 0:00:01\r\u001b[K     |█████████████████████████████▊  | 2.1 MB 16.3 MB/s eta 0:00:01\r\u001b[K     |██████████████████████████████  | 2.1 MB 16.3 MB/s eta 0:00:01\r\u001b[K     |██████████████████████████████  | 2.1 MB 16.3 MB/s eta 0:00:01\r\u001b[K     |██████████████████████████████▏ | 2.2 MB 16.3 MB/s eta 0:00:01\r\u001b[K     |██████████████████████████████▍ | 2.2 MB 16.3 MB/s eta 0:00:01\r\u001b[K     |██████████████████████████████▌ | 2.2 MB 16.3 MB/s eta 0:00:01\r\u001b[K     |██████████████████████████████▋ | 2.2 MB 16.3 MB/s eta 0:00:01\r\u001b[K     |██████████████████████████████▊ | 2.2 MB 16.3 MB/s eta 0:00:01\r\u001b[K     |███████████████████████████████ | 2.2 MB 16.3 MB/s eta 0:00:01\r\u001b[K     |███████████████████████████████ | 2.2 MB 16.3 MB/s eta 0:00:01\r\u001b[K     |███████████████████████████████▏| 2.2 MB 16.3 MB/s eta 0:00:01\r\u001b[K     |███████████████████████████████▍| 2.2 MB 16.3 MB/s eta 0:00:01\r\u001b[K     |███████████████████████████████▌| 2.2 MB 16.3 MB/s eta 0:00:01\r\u001b[K     |███████████████████████████████▋| 2.3 MB 16.3 MB/s eta 0:00:01\r\u001b[K     |███████████████████████████████▊| 2.3 MB 16.3 MB/s eta 0:00:01\r\u001b[K     |████████████████████████████████| 2.3 MB 16.3 MB/s eta 0:00:01\r\u001b[K     |████████████████████████████████| 2.3 MB 16.3 MB/s \n",
            "\u001b[?25h"
          ]
        }
      ]
    },
    {
      "cell_type": "code",
      "source": [
        "from Bio import Entrez\n",
        "from Bio import Medline"
      ],
      "metadata": {
        "id": "sbpXaatqWh-s"
      },
      "execution_count": 3,
      "outputs": []
    },
    {
      "cell_type": "code",
      "source": [
        "def fetch_data(pmids):\n",
        "    \"\"\"Returns MEDLINE record associated with the PMID(s)\"\"\"\n",
        "    \n",
        "    Entrez.email = 'akishirsath@gmail.com'\n",
        "\n",
        "    # Extracting MEDLINE record for the given PMID(s)\n",
        "    handle = Entrez.efetch(db=\"pubmed\", \n",
        "                           id=pmids, \n",
        "                           rettype=\"medline\", \n",
        "                           retmode=\"text\")\n",
        "\n",
        "    # Parsing the XML format \n",
        "    records = Medline.parse(handle)    \n",
        "    \n",
        "    return list(records)"
      ],
      "metadata": {
        "id": "O6WaYIlx_3M8"
      },
      "execution_count": 4,
      "outputs": []
    },
    {
      "cell_type": "code",
      "source": [
        "pmid = '29614878'\n",
        "data = fetch_data(pmid)"
      ],
      "metadata": {
        "id": "REAlSnJp_3Ta"
      },
      "execution_count": 5,
      "outputs": []
    },
    {
      "cell_type": "code",
      "source": [
        "data_dict = data[0]"
      ],
      "metadata": {
        "id": "kWNp8VQ9Aq-c"
      },
      "execution_count": 6,
      "outputs": []
    },
    {
      "cell_type": "code",
      "source": [
        "data_dict"
      ],
      "metadata": {
        "id": "kgyOEHXLxXoy",
        "colab": {
          "base_uri": "https://localhost:8080/"
        },
        "outputId": "e3566f10-3b16-4efa-b792-9c6e41234baf"
      },
      "execution_count": 7,
      "outputs": [
        {
          "output_type": "execute_result",
          "data": {
            "text/plain": [
              "{'AB': \"OBJECTIVES: To provide a clinical update for general psychiatrists on the assessment and diagnosis of Alzheimer's disease (AD), highlighting current issues regarding epidemiology, risk factors and pathophysiology from recent relevant research findings. CONCLUSIONS: Psychiatrists can apply their skills and training in the diagnosis of AD, which is based upon a comprehensive assessment comprising history, investigations, and cognitive and functional assessment, guided by accepted diagnostic criteria.\",\n",
              " 'AD': ['Neuropsychiatrist, Neuropsychiatry Unit, Royal Melbourne Hospital, Parkville, VIC, and; Melbourne Neuropsychiatry Centre, University of Melbourne, and; NorthWestern Mental Health, Melbourne, VIC, Australia.',\n",
              "  'Neuropsychiatrist, Neuropsychiatry Unit, Royal Melbourne Hospital, Parkville, VIC, and; Department of Psychiatry, University of Melbourne, and; NorthWestern Mental Health, Melbourne, VIC, Australia.',\n",
              "  'Neuropsychiatrist, Neuropsychiatry Unit, Royal Melbourne Hospital, Parkville, VIC, and; Melbourne Neuropsychiatry Centre, University of Melbourne, and; NorthWestern Mental Health, Melbourne, VIC, Australia.',\n",
              "  'Neuropsychiatrist, Neuropsychiatry Unit, Royal Melbourne Hospital, Parkville, VIC, and; Melbourne Neuropsychiatry Centre, University of Melbourne, and; NorthWestern Mental Health, Melbourne, VIC, Australia.',\n",
              "  'Neuropsychiatrist, Neuropsychiatry Unit, Royal Melbourne Hospital, Parkville, VIC, and; Melbourne Neuropsychiatry Centre, University of Melbourne, and; NorthWestern Mental Health, Melbourne, VIC, Australia.',\n",
              "  'Clinical Associate Professor, Neuropsychiatry Unit, Royal Melbourne Hospital, Parkville, VIC, and; Melbourne Neuropsychiatry Centre, University of Melbourne, Melbourne, VIC, and; Associate Professor and Acting Head, Academic Unit of Psychiatry and Addiction Medicine, Australian National University Medical School, Canberra Hospital, Garran, ACT, Australia.'],\n",
              " 'AID': ['10.1177/1039856218762308 [doi]'],\n",
              " 'AU': ['Eratne D',\n",
              "  'Loi SM',\n",
              "  'Farrand S',\n",
              "  'Kelso W',\n",
              "  'Velakoulis D',\n",
              "  'Looi JC'],\n",
              " 'AUID': ['ORCID: https://orcid.org/0000-0002-4953-4500',\n",
              "  'ORCID: https://orcid.org/0000-0003-3351-6911'],\n",
              " 'CRDT': ['2018/04/05 06:00'],\n",
              " 'DCOM': '20190405',\n",
              " 'DEP': '20180403',\n",
              " 'DP': '2018 Aug',\n",
              " 'EDAT': '2018/04/05 06:00',\n",
              " 'FAU': ['Eratne, Dhamidhu',\n",
              "  'Loi, Samantha M',\n",
              "  'Farrand, Sarah',\n",
              "  'Kelso, Wendy',\n",
              "  'Velakoulis, Dennis',\n",
              "  'Looi, Jeffrey Cl'],\n",
              " 'IP': '4',\n",
              " 'IS': '1440-1665 (Electronic) 1039-8562 (Linking)',\n",
              " 'JID': '9613603',\n",
              " 'JT': 'Australasian psychiatry : bulletin of Royal Australian and New Zealand College of Psychiatrists',\n",
              " 'LA': ['eng'],\n",
              " 'LID': '10.1177/1039856218762308 [doi]',\n",
              " 'LR': '20190405',\n",
              " 'MH': ['*Alzheimer Disease/diagnosis/epidemiology/physiopathology', 'Humans'],\n",
              " 'MHDA': '2019/04/06 06:00',\n",
              " 'OT': [\"Alzheimer's disease\",\n",
              "  'behavioural and psychological symptoms of dementia',\n",
              "  'diagnosis',\n",
              "  'neuropsychiatric symptoms',\n",
              "  'pathophysiology',\n",
              "  'psychiatry'],\n",
              " 'OTO': ['NOTNLM'],\n",
              " 'OWN': 'NLM',\n",
              " 'PG': '347-357',\n",
              " 'PHST': ['2018/04/05 06:00 [pubmed]',\n",
              "  '2019/04/06 06:00 [medline]',\n",
              "  '2018/04/05 06:00 [entrez]'],\n",
              " 'PL': 'England',\n",
              " 'PMID': '29614878',\n",
              " 'PST': 'ppublish',\n",
              " 'PT': ['Journal Article', 'Review'],\n",
              " 'SB': 'IM',\n",
              " 'SO': 'Australas Psychiatry. 2018 Aug;26(4):347-357. doi: 10.1177/1039856218762308. Epub 2018 Apr 3.',\n",
              " 'STAT': 'MEDLINE',\n",
              " 'TA': 'Australas Psychiatry',\n",
              " 'TI': \"Alzheimer's disease: clinical update on epidemiology, pathophysiology and diagnosis.\",\n",
              " 'VI': '26'}"
            ]
          },
          "metadata": {},
          "execution_count": 7
        }
      ]
    },
    {
      "cell_type": "code",
      "source": [
        "for field_desc, data in (data_dict.items()):\n",
        "  print(f\"{field_desc}\\t{data}\")"
      ],
      "metadata": {
        "colab": {
          "base_uri": "https://localhost:8080/"
        },
        "id": "_saQSwPwAxC6",
        "outputId": "ce4d4805-ddb2-4c5d-c5f5-09fd897f3b8e"
      },
      "execution_count": 8,
      "outputs": [
        {
          "output_type": "stream",
          "name": "stdout",
          "text": [
            "PMID\t29614878\n",
            "OWN\tNLM\n",
            "STAT\tMEDLINE\n",
            "DCOM\t20190405\n",
            "LR\t20190405\n",
            "IS\t1440-1665 (Electronic) 1039-8562 (Linking)\n",
            "VI\t26\n",
            "IP\t4\n",
            "DP\t2018 Aug\n",
            "TI\tAlzheimer's disease: clinical update on epidemiology, pathophysiology and diagnosis.\n",
            "PG\t347-357\n",
            "LID\t10.1177/1039856218762308 [doi]\n",
            "AB\tOBJECTIVES: To provide a clinical update for general psychiatrists on the assessment and diagnosis of Alzheimer's disease (AD), highlighting current issues regarding epidemiology, risk factors and pathophysiology from recent relevant research findings. CONCLUSIONS: Psychiatrists can apply their skills and training in the diagnosis of AD, which is based upon a comprehensive assessment comprising history, investigations, and cognitive and functional assessment, guided by accepted diagnostic criteria.\n",
            "FAU\t['Eratne, Dhamidhu', 'Loi, Samantha M', 'Farrand, Sarah', 'Kelso, Wendy', 'Velakoulis, Dennis', 'Looi, Jeffrey Cl']\n",
            "AU\t['Eratne D', 'Loi SM', 'Farrand S', 'Kelso W', 'Velakoulis D', 'Looi JC']\n",
            "AD\t['Neuropsychiatrist, Neuropsychiatry Unit, Royal Melbourne Hospital, Parkville, VIC, and; Melbourne Neuropsychiatry Centre, University of Melbourne, and; NorthWestern Mental Health, Melbourne, VIC, Australia.', 'Neuropsychiatrist, Neuropsychiatry Unit, Royal Melbourne Hospital, Parkville, VIC, and; Department of Psychiatry, University of Melbourne, and; NorthWestern Mental Health, Melbourne, VIC, Australia.', 'Neuropsychiatrist, Neuropsychiatry Unit, Royal Melbourne Hospital, Parkville, VIC, and; Melbourne Neuropsychiatry Centre, University of Melbourne, and; NorthWestern Mental Health, Melbourne, VIC, Australia.', 'Neuropsychiatrist, Neuropsychiatry Unit, Royal Melbourne Hospital, Parkville, VIC, and; Melbourne Neuropsychiatry Centre, University of Melbourne, and; NorthWestern Mental Health, Melbourne, VIC, Australia.', 'Neuropsychiatrist, Neuropsychiatry Unit, Royal Melbourne Hospital, Parkville, VIC, and; Melbourne Neuropsychiatry Centre, University of Melbourne, and; NorthWestern Mental Health, Melbourne, VIC, Australia.', 'Clinical Associate Professor, Neuropsychiatry Unit, Royal Melbourne Hospital, Parkville, VIC, and; Melbourne Neuropsychiatry Centre, University of Melbourne, Melbourne, VIC, and; Associate Professor and Acting Head, Academic Unit of Psychiatry and Addiction Medicine, Australian National University Medical School, Canberra Hospital, Garran, ACT, Australia.']\n",
            "AUID\t['ORCID: https://orcid.org/0000-0002-4953-4500', 'ORCID: https://orcid.org/0000-0003-3351-6911']\n",
            "LA\t['eng']\n",
            "PT\t['Journal Article', 'Review']\n",
            "DEP\t20180403\n",
            "PL\tEngland\n",
            "TA\tAustralas Psychiatry\n",
            "JT\tAustralasian psychiatry : bulletin of Royal Australian and New Zealand College of Psychiatrists\n",
            "JID\t9613603\n",
            "SB\tIM\n",
            "MH\t['*Alzheimer Disease/diagnosis/epidemiology/physiopathology', 'Humans']\n",
            "OTO\t['NOTNLM']\n",
            "OT\t[\"Alzheimer's disease\", 'behavioural and psychological symptoms of dementia', 'diagnosis', 'neuropsychiatric symptoms', 'pathophysiology', 'psychiatry']\n",
            "EDAT\t2018/04/05 06:00\n",
            "MHDA\t2019/04/06 06:00\n",
            "CRDT\t['2018/04/05 06:00']\n",
            "PHST\t['2018/04/05 06:00 [pubmed]', '2019/04/06 06:00 [medline]', '2018/04/05 06:00 [entrez]']\n",
            "AID\t['10.1177/1039856218762308 [doi]']\n",
            "PST\tppublish\n",
            "SO\tAustralas Psychiatry. 2018 Aug;26(4):347-357. doi: 10.1177/1039856218762308. Epub 2018 Apr 3.\n"
          ]
        }
      ]
    },
    {
      "cell_type": "markdown",
      "source": [
        "## Medical Subject Headings (MeSH)"
      ],
      "metadata": {
        "id": "gFmAM4b-Wh2i"
      }
    },
    {
      "cell_type": "code",
      "source": [
        "data_dict.get('MH', 'NONE')"
      ],
      "metadata": {
        "colab": {
          "base_uri": "https://localhost:8080/"
        },
        "id": "DLseqGKJAxAQ",
        "outputId": "8902725e-d8bb-4c17-8880-dd3700298c37"
      },
      "execution_count": 9,
      "outputs": [
        {
          "output_type": "execute_result",
          "data": {
            "text/plain": [
              "['*Alzheimer Disease/diagnosis/epidemiology/physiopathology', 'Humans']"
            ]
          },
          "metadata": {},
          "execution_count": 9
        }
      ]
    },
    {
      "cell_type": "markdown",
      "source": [
        "## Biological Named-entity recognition (BioNER)"
      ],
      "metadata": {
        "id": "uCNymwruWXqk"
      }
    },
    {
      "cell_type": "markdown",
      "source": [
        "Biomedical named entity recognition (BioNER) is an important and challenging task for understanding biomedical texts. It aims to recognize named entities (NEs), such as diseases, gene, species, etc., in biomedical texts and plays an important role in many downstream natural language processing (NLP) tasks, such as drug-drug interaction task and knowledge base completion"
      ],
      "metadata": {
        "id": "bbdI-rspYyjT"
      }
    },
    {
      "cell_type": "code",
      "source": [
        "!pip install -q nxviz\n",
        "!pip install -q scispacy\n",
        "!pip install -q https://s3-us-west-2.amazonaws.com/ai2-s2-scispacy/releases/v0.4.0/en_ner_bc5cdr_md-0.4.0.tar.gz"
      ],
      "metadata": {
        "id": "j97FTqfGWYLB",
        "colab": {
          "base_uri": "https://localhost:8080/"
        },
        "outputId": "fd05790f-bc7f-44bd-bd6c-4e1b996a72b7"
      },
      "execution_count": 10,
      "outputs": [
        {
          "output_type": "stream",
          "name": "stdout",
          "text": [
            "\u001b[K     |████████████████████████████████| 4.8 MB 41.9 MB/s \n",
            "\u001b[K     |████████████████████████████████| 6.4 MB 40.0 MB/s \n",
            "\u001b[K     |████████████████████████████████| 11.2 MB 58.9 MB/s \n",
            "\u001b[K     |████████████████████████████████| 895 kB 55.3 MB/s \n",
            "\u001b[K     |████████████████████████████████| 76 kB 5.4 MB/s \n",
            "\u001b[K     |████████████████████████████████| 1.1 MB 58.1 MB/s \n",
            "\u001b[K     |████████████████████████████████| 216 kB 54.0 MB/s \n",
            "\u001b[K     |████████████████████████████████| 181 kB 55.8 MB/s \n",
            "\u001b[K     |████████████████████████████████| 558 kB 45.9 MB/s \n",
            "\u001b[K     |████████████████████████████████| 130 kB 66.1 MB/s \n",
            "\u001b[K     |████████████████████████████████| 63 kB 1.7 MB/s \n",
            "\u001b[31mERROR: pip's dependency resolver does not currently take into account all the packages that are installed. This behaviour is the source of the following dependency conflicts.\n",
            "datascience 0.10.6 requires folium==0.2.1, but you have folium 0.8.3 which is incompatible.\n",
            "albumentations 0.1.12 requires imgaug<0.2.7,>=0.2.5, but you have imgaug 0.2.9 which is incompatible.\u001b[0m\n",
            "\u001b[K     |████████████████████████████████| 44 kB 2.0 MB/s \n",
            "\u001b[K     |████████████████████████████████| 13.5 MB 48.7 MB/s \n",
            "\u001b[K     |████████████████████████████████| 71 kB 9.1 MB/s \n",
            "\u001b[K     |████████████████████████████████| 6.3 MB 40.3 MB/s \n",
            "\u001b[K     |████████████████████████████████| 188 kB 30.8 MB/s \n",
            "\u001b[K     |████████████████████████████████| 451 kB 54.4 MB/s \n",
            "\u001b[K     |████████████████████████████████| 628 kB 38.7 MB/s \n",
            "\u001b[K     |████████████████████████████████| 10.1 MB 48.7 MB/s \n",
            "\u001b[K     |████████████████████████████████| 42 kB 1.5 MB/s \n",
            "\u001b[K     |████████████████████████████████| 125.1 MB 29 kB/s \n",
            "\u001b[?25h  Building wheel for en-ner-bc5cdr-md (setup.py) ... \u001b[?25l\u001b[?25hdone\n"
          ]
        }
      ]
    },
    {
      "cell_type": "code",
      "source": [
        "import scispacy\n",
        "import spacy\n",
        "\n",
        "nlp = spacy.load(\"en_ner_bc5cdr_md\")"
      ],
      "metadata": {
        "id": "qGBTMc6zXU_u"
      },
      "execution_count": 11,
      "outputs": []
    },
    {
      "cell_type": "code",
      "source": [
        "sample_text = \"\"\"Alzheimer's disease (AD) is a neurodegenerative disease that \n",
        "usually starts slowly and progressively worsens.[2] It is the cause of 60–70% \n",
        "of cases of dementia.[2][11] The most common early symptom is difficulty in \n",
        "remembering recent events.[1] As the disease advances, symptoms can include \n",
        "problems with language, disorientation (including easily getting lost), \n",
        "mood swings, loss of motivation, self-neglect, and behavioral issues.[2] \n",
        "As a person's condition declines, they often withdraw from family and society.\n",
        "[12] Gradually, bodily functions are lost, ultimately leading to death.[13] \n",
        "Although the speed of progression can vary, \n",
        "the typical life expectancy following diagnosis is three to nine years.[9][14]\"\"\""
      ],
      "metadata": {
        "id": "JSh6ms4mk1Q_"
      },
      "execution_count": 12,
      "outputs": []
    },
    {
      "cell_type": "code",
      "source": [
        "doc = nlp(sample_text)\n",
        "print(\"TEXT\", \"START\", \"END\", \"ENTITY TYPE\")\n",
        "for ent in doc.ents:\n",
        "    print(ent.text, ent.start_char, ent.end_char, ent.label_)"
      ],
      "metadata": {
        "colab": {
          "base_uri": "https://localhost:8080/"
        },
        "id": "_pXm8haLkluq",
        "outputId": "1578d1f6-1771-4e3b-b315-b533f16ee1e5"
      },
      "execution_count": 13,
      "outputs": [
        {
          "output_type": "stream",
          "name": "stdout",
          "text": [
            "TEXT START END ENTITY TYPE\n",
            "Alzheimer's disease 0 19 DISEASE\n",
            "neurodegenerative disease 30 55 DISEASE\n",
            "60–70 133 138 CHEMICAL\n",
            "disorientation 319 333 DISEASE\n",
            "self-neglect 401 413 DISEASE\n"
          ]
        }
      ]
    },
    {
      "cell_type": "markdown",
      "source": [
        "## Building & Visualising Graphs with Networkx & Pyvis"
      ],
      "metadata": {
        "id": "aCtd9gXvV7Zz"
      }
    },
    {
      "cell_type": "markdown",
      "metadata": {
        "id": "70fdcbe8"
      },
      "source": [
        "Wikipedia defines graphs as:\n",
        "> \"[...] a graph is a structure amounting to a set of objects in which some pairs of the objects are in some sense 'related'. The objects correspond to mathematical abstractions called vertices (also called nodes or points) and each of the related pairs of vertices is called an edge (also called link or line).\""
      ]
    },
    {
      "cell_type": "markdown",
      "metadata": {
        "id": "789916e0"
      },
      "source": [
        "Graphs help in visualising and defining \"relationship\" between \"components\". Components are nodes or vertices and their relationship are link or edges between this components. Take a look at below image."
      ]
    },
    {
      "cell_type": "markdown",
      "source": [
        "Now that being said, let's try to create our own graph. "
      ],
      "metadata": {
        "id": "kIOWIEhfF5KI"
      }
    },
    {
      "cell_type": "code",
      "source": [
        "!pip install -q networkx\n",
        "!pip install -q pyvis"
      ],
      "metadata": {
        "id": "veMu9qaAV8Tx"
      },
      "execution_count": 14,
      "outputs": []
    },
    {
      "cell_type": "markdown",
      "source": [
        "### Networkx"
      ],
      "metadata": {
        "id": "LWS_YFEmFDVq"
      }
    },
    {
      "cell_type": "markdown",
      "metadata": {
        "id": "9c6ee554"
      },
      "source": [
        "Create an empty graph with no nodes and no edges."
      ]
    },
    {
      "cell_type": "code",
      "source": [
        "import networkx as nx\n",
        "\n",
        "G = nx.Graph()"
      ],
      "metadata": {
        "id": "m2B-eFjvo9-b"
      },
      "execution_count": 15,
      "outputs": []
    },
    {
      "cell_type": "markdown",
      "metadata": {
        "id": "06cfe8d7"
      },
      "source": [
        "The graph G can be grown in several ways. NetworkX includes many graph generator functions and facilities to read and write graphs in many formats. To get started though we’ll look at simple manipulations. You can add one node at a time,"
      ]
    },
    {
      "cell_type": "code",
      "execution_count": 16,
      "metadata": {
        "id": "f3a884c6"
      },
      "outputs": [],
      "source": [
        "G.add_node(1)"
      ]
    },
    {
      "cell_type": "markdown",
      "metadata": {
        "id": "87168576"
      },
      "source": [
        "or add nodes from any iterable container, such as a list"
      ]
    },
    {
      "cell_type": "code",
      "execution_count": 17,
      "metadata": {
        "id": "25afe9f1"
      },
      "outputs": [],
      "source": [
        "G.add_nodes_from([2, 3, 4, 5, 6])"
      ]
    },
    {
      "cell_type": "markdown",
      "metadata": {
        "id": "cbcd02e9"
      },
      "source": [
        "By definition, a Graph is a collection of nodes (vertices) along with identified pairs of nodes (called edges, links, etc). In NetworkX, nodes can be any hashable object e.g., a text string, an image, an XML object, another Graph, a customized node object, etc."
      ]
    },
    {
      "cell_type": "code",
      "execution_count": 18,
      "metadata": {
        "id": "96a60b00"
      },
      "outputs": [],
      "source": [
        "G.add_edge(1, 2)"
      ]
    },
    {
      "cell_type": "code",
      "source": [
        "edges_list = [(1, 5), (2, 3), (2, 5), (3, 4), (4, 5), (4, 6)]\n",
        "\n",
        "G.add_edges_from(edges_list)"
      ],
      "metadata": {
        "id": "IJ03ocZ9qPiW"
      },
      "execution_count": 19,
      "outputs": []
    },
    {
      "cell_type": "code",
      "source": [
        "G.nodes()"
      ],
      "metadata": {
        "colab": {
          "base_uri": "https://localhost:8080/"
        },
        "id": "r1odmCmEouIf",
        "outputId": "f1dabec5-75a8-46f4-91fa-6b8c7aaa22e8"
      },
      "execution_count": 20,
      "outputs": [
        {
          "output_type": "execute_result",
          "data": {
            "text/plain": [
              "NodeView((1, 2, 3, 4, 5, 6))"
            ]
          },
          "metadata": {},
          "execution_count": 20
        }
      ]
    },
    {
      "cell_type": "code",
      "source": [
        "G.edges()"
      ],
      "metadata": {
        "colab": {
          "base_uri": "https://localhost:8080/"
        },
        "id": "y38arbUGowCy",
        "outputId": "996ac2eb-9e17-4dfc-c28f-246b6b03f921"
      },
      "execution_count": 21,
      "outputs": [
        {
          "output_type": "execute_result",
          "data": {
            "text/plain": [
              "EdgeView([(1, 2), (1, 5), (2, 3), (2, 5), (3, 4), (4, 5), (4, 6)])"
            ]
          },
          "metadata": {},
          "execution_count": 21
        }
      ]
    },
    {
      "cell_type": "code",
      "source": [
        "!pip install -q matplotlib==3.1.3"
      ],
      "metadata": {
        "colab": {
          "base_uri": "https://localhost:8080/"
        },
        "id": "3nVDbEJpGuNR",
        "outputId": "5618484b-2694-4e1c-ef99-7e29a4732680"
      },
      "execution_count": 22,
      "outputs": [
        {
          "output_type": "stream",
          "name": "stdout",
          "text": [
            "\u001b[K     |████████████████████████████████| 13.1 MB 33.9 MB/s \n",
            "\u001b[31mERROR: pip's dependency resolver does not currently take into account all the packages that are installed. This behaviour is the source of the following dependency conflicts.\n",
            "nxviz 0.7.3 requires matplotlib>=3.3.3, but you have matplotlib 3.1.3 which is incompatible.\n",
            "albumentations 0.1.12 requires imgaug<0.2.7,>=0.2.5, but you have imgaug 0.2.9 which is incompatible.\u001b[0m\n",
            "\u001b[?25h"
          ]
        }
      ]
    },
    {
      "cell_type": "code",
      "source": [
        "import matplotlib.pyplot as plt\n",
        "\n",
        "nx.draw(G, with_labels=True)\n",
        "plt.show() "
      ],
      "metadata": {
        "colab": {
          "base_uri": "https://localhost:8080/",
          "height": 0
        },
        "id": "4el6a-C_pRYz",
        "outputId": "1015f478-04f8-4126-c951-2380db8e9fe4"
      },
      "execution_count": 23,
      "outputs": [
        {
          "output_type": "display_data",
          "data": {
            "image/png": "[encoded data removed]",
            "text/plain": [
              "<Figure size 432x288 with 1 Axes>"
            ]
          },
          "metadata": {}
        }
      ]
    },
    {
      "cell_type": "code",
      "source": [
        "G.number_of_edges()"
      ],
      "metadata": {
        "colab": {
          "base_uri": "https://localhost:8080/"
        },
        "id": "skxjkTbSpdy0",
        "outputId": "fb3bc3b3-e28e-41eb-8e3c-630a13bf2af3"
      },
      "execution_count": 24,
      "outputs": [
        {
          "output_type": "execute_result",
          "data": {
            "text/plain": [
              "7"
            ]
          },
          "metadata": {},
          "execution_count": 24
        }
      ]
    },
    {
      "cell_type": "code",
      "execution_count": 25,
      "metadata": {
        "id": "725aebb3",
        "outputId": "d35c935a-bda9-4c87-845d-4fdb2b3ca5db",
        "colab": {
          "base_uri": "https://localhost:8080/"
        }
      },
      "outputs": [
        {
          "output_type": "execute_result",
          "data": {
            "text/plain": [
              "6"
            ]
          },
          "metadata": {},
          "execution_count": 25
        }
      ],
      "source": [
        "G.number_of_nodes()"
      ]
    },
    {
      "cell_type": "code",
      "execution_count": 26,
      "metadata": {
        "id": "38c6c458",
        "outputId": "c511b312-b112-4a5b-fc66-f46cac7fa2e7",
        "colab": {
          "base_uri": "https://localhost:8080/"
        }
      },
      "outputs": [
        {
          "output_type": "execute_result",
          "data": {
            "text/plain": [
              "[1, 2, 4]"
            ]
          },
          "metadata": {},
          "execution_count": 26
        }
      ],
      "source": [
        "list(G.neighbors(5))"
      ]
    },
    {
      "cell_type": "code",
      "execution_count": 27,
      "metadata": {
        "id": "c7783e9a",
        "outputId": "c1c758d5-dd2b-49bb-8068-1f7565e7294d",
        "colab": {
          "base_uri": "https://localhost:8080/"
        }
      },
      "outputs": [
        {
          "output_type": "execute_result",
          "data": {
            "text/plain": [
              "[2, 4]"
            ]
          },
          "metadata": {},
          "execution_count": 27
        }
      ],
      "source": [
        "sorted(nx.common_neighbors(G, 3, 5))"
      ]
    },
    {
      "cell_type": "code",
      "execution_count": 28,
      "metadata": {
        "id": "89f80bfb",
        "outputId": "0c50bea4-0b60-4e6a-d834-e765973be5b7",
        "colab": {
          "base_uri": "https://localhost:8080/"
        }
      },
      "outputs": [
        {
          "output_type": "stream",
          "name": "stdout",
          "text": [
            "1 [2, 5]\n",
            "2 [1, 3, 5]\n",
            "3 [2, 4]\n",
            "4 [3, 5, 6]\n",
            "5 [1, 2, 4]\n",
            "6 [4]\n"
          ]
        }
      ],
      "source": [
        "for node in G.nodes:\n",
        "    print(node, list(G.neighbors(node)))"
      ]
    },
    {
      "cell_type": "markdown",
      "source": [
        "### Pyvis"
      ],
      "metadata": {
        "id": "HN6VS4zsFGZI"
      }
    },
    {
      "cell_type": "code",
      "source": [
        ""
      ],
      "metadata": {
        "id": "QAsbj8NuFISl"
      },
      "execution_count": 28,
      "outputs": []
    },
    {
      "cell_type": "markdown",
      "source": [
        "## Abstract as Network Graph"
      ],
      "metadata": {
        "id": "drQU0kWblFTi"
      }
    },
    {
      "cell_type": "code",
      "source": [
        "abstract = data_dict.get('AB', 'NONE')"
      ],
      "metadata": {
        "id": "Miagv4Htkwky"
      },
      "execution_count": 29,
      "outputs": []
    },
    {
      "cell_type": "code",
      "source": [
        ""
      ],
      "metadata": {
        "id": "CUhyKL98lWBK"
      },
      "execution_count": 29,
      "outputs": []
    },
    {
      "cell_type": "markdown",
      "source": [
        "## MeSH terms as Network Graph"
      ],
      "metadata": {
        "id": "e8a5l-Fjl_IK"
      }
    },
    {
      "cell_type": "code",
      "source": [
        ""
      ],
      "metadata": {
        "id": "FN7A3ovFmCGE"
      },
      "execution_count": 29,
      "outputs": []
    },
    {
      "cell_type": "markdown",
      "source": [
        "## References\n",
        "- https://www.nlm.nih.gov/bsd/mms/medlineelements.html\n",
        "- https://hhs.github.io/meshrdf/qualifiers\n",
        "- https://www.nlm.nih.gov/mesh/introduction.html"
      ],
      "metadata": {
        "id": "9KOvh1ZwpnjR"
      }
    }
  ]
}