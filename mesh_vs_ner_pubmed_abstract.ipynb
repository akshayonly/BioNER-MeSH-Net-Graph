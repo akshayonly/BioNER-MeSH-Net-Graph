{
  "nbformat": 4,
  "nbformat_minor": 0,
  "metadata": {
    "colab": {
      "name": "mesh_vs_ner_pubmed_abstract.ipynb",
      "provenance": [],
      "collapsed_sections": [
        "JPO8NgDQUPhC",
        "W4MpSGkEV107",
        "aCtd9gXvV7Zz",
        "uCNymwruWXqk"
      ],
      "authorship_tag": "ABX9TyMlxmxZ238Dl8wVzMYZ+qMm",
      "include_colab_link": true
    },
    "kernelspec": {
      "name": "python3",
      "display_name": "Python 3"
    },
    "language_info": {
      "name": "python"
    }
  },
  "cells": [
    {
      "cell_type": "markdown",
      "metadata": {
        "id": "view-in-github",
        "colab_type": "text"
      },
      "source": [
        "<a href=\"https://colab.research.google.com/github/akshayonly/BioNER-MeSH-Net-Graph/blob/main/mesh_vs_ner_pubmed_abstract.ipynb\" target=\"_parent\"><img src=\"https://colab.research.google.com/assets/colab-badge.svg\" alt=\"Open In Colab\"/></a>"
      ]
    },
    {
      "cell_type": "markdown",
      "source": [
        "# Medical Subject Heading Vs. Named Entity Recognition\n",
        "\n",
        "In this article, we'd explore BioNER and MeSH terms for building and visualizing network graphs of any PubMed articles."
      ],
      "metadata": {
        "id": "HVnAW_FwTqo9"
      }
    },
    {
      "cell_type": "markdown",
      "source": [
        "## All Libraries"
      ],
      "metadata": {
        "id": "JPO8NgDQUPhC"
      }
    },
    {
      "cell_type": "code",
      "source": [
        "'''\n",
        "!pip install -q biopython\n",
        "!pip install -q pyvis\n",
        "!pip install -q nxviz\n",
        "!pip install -q scispacy\n",
        "!pip install -q https://s3-us-west-2.amazonaws.com/ai2-s2-scispacy/releases/v0.4.0/en_ner_bc5cdr_md-0.4.0.tar.gz\n",
        "\n",
        "import pandas as pd\n",
        "import seaborn as sns\n",
        "import networkx as nx\n",
        "import matplotlib.pyplot as plt\n",
        "\n",
        "import networkx as nx\n",
        "import pyvis as nt\n",
        "\n",
        "from Bio import Entrez\n",
        "from Bio import Medline\n",
        "\n",
        "import os\n",
        "from tqdm import tqdm\n",
        "\n",
        "import scispacy\n",
        "import spacy\n",
        "nlp = spacy.load(\"en_ner_bc5cdr_md\")\n",
        "'''"
      ],
      "metadata": {
        "colab": {
          "base_uri": "https://localhost:8080/",
          "height": 90
        },
        "id": "Ek43OfNCUTIi",
        "outputId": "03075c31-d613-44bf-ab18-7b3a365f3d28"
      },
      "execution_count": 1,
      "outputs": [
        {
          "output_type": "execute_result",
          "data": {
            "application/vnd.google.colaboratory.intrinsic+json": {
              "type": "string"
            },
            "text/plain": [
              "'\\n!pip install -q biopython\\n!pip install -q pyvis\\n!pip install -q nxviz\\n!pip install -q scispacy\\n!pip install -q https://s3-us-west-2.amazonaws.com/ai2-s2-scispacy/releases/v0.4.0/en_ner_bc5cdr_md-0.4.0.tar.gz\\n\\nimport pandas as pd\\nimport seaborn as sns\\nimport networkx as nx\\nimport matplotlib.pyplot as plt\\n\\nimport networkx as nx\\nimport pyvis as nt\\n\\nfrom Bio import Entrez\\nfrom Bio import Medline\\n\\nimport os\\nfrom tqdm import tqdm\\n\\nimport scispacy\\nimport spacy\\nnlp = spacy.load(\"en_ner_bc5cdr_md\")\\n'"
            ]
          },
          "metadata": {},
          "execution_count": 1
        }
      ]
    },
    {
      "cell_type": "markdown",
      "source": [
        "## Introduction"
      ],
      "metadata": {
        "id": "W4MpSGkEV107"
      }
    },
    {
      "cell_type": "code",
      "source": [
        "# Pass"
      ],
      "metadata": {
        "id": "wmAYQLiGV4KK"
      },
      "execution_count": 2,
      "outputs": []
    },
    {
      "cell_type": "markdown",
      "source": [
        "## Building & Visualising Graphs"
      ],
      "metadata": {
        "id": "aCtd9gXvV7Zz"
      }
    },
    {
      "cell_type": "code",
      "source": [
        "!pip install -q networkx\n",
        "!pip install -q pyvis"
      ],
      "metadata": {
        "id": "veMu9qaAV8Tx"
      },
      "execution_count": 3,
      "outputs": []
    },
    {
      "cell_type": "code",
      "source": [
        "import networkx as nx\n",
        "import pyvis as pv"
      ],
      "metadata": {
        "id": "eZ3Nc9A6XMvs"
      },
      "execution_count": 4,
      "outputs": []
    },
    {
      "cell_type": "markdown",
      "source": [
        "## PubMed & Entrez"
      ],
      "metadata": {
        "id": "h5FZ9R7YV8xa"
      }
    },
    {
      "cell_type": "code",
      "source": [
        "!pip install -q biopython"
      ],
      "metadata": {
        "id": "aE8J1l34V9hh",
        "colab": {
          "base_uri": "https://localhost:8080/"
        },
        "outputId": "a3ce9e01-5192-4287-9051-95da673e12ba"
      },
      "execution_count": 5,
      "outputs": [
        {
          "output_type": "stream",
          "name": "stdout",
          "text": [
            "\u001b[?25l\r\u001b[K     |▏                               | 10 kB 29.5 MB/s eta 0:00:01\r\u001b[K     |▎                               | 20 kB 36.1 MB/s eta 0:00:01\r\u001b[K     |▍                               | 30 kB 33.3 MB/s eta 0:00:01\r\u001b[K     |▋                               | 40 kB 22.0 MB/s eta 0:00:01\r\u001b[K     |▊                               | 51 kB 8.2 MB/s eta 0:00:01\r\u001b[K     |▉                               | 61 kB 9.6 MB/s eta 0:00:01\r\u001b[K     |█                               | 71 kB 10.0 MB/s eta 0:00:01\r\u001b[K     |█▏                              | 81 kB 10.1 MB/s eta 0:00:01\r\u001b[K     |█▎                              | 92 kB 11.3 MB/s eta 0:00:01\r\u001b[K     |█▍                              | 102 kB 9.2 MB/s eta 0:00:01\r\u001b[K     |█▋                              | 112 kB 9.2 MB/s eta 0:00:01\r\u001b[K     |█▊                              | 122 kB 9.2 MB/s eta 0:00:01\r\u001b[K     |█▉                              | 133 kB 9.2 MB/s eta 0:00:01\r\u001b[K     |██                              | 143 kB 9.2 MB/s eta 0:00:01\r\u001b[K     |██▏                             | 153 kB 9.2 MB/s eta 0:00:01\r\u001b[K     |██▎                             | 163 kB 9.2 MB/s eta 0:00:01\r\u001b[K     |██▍                             | 174 kB 9.2 MB/s eta 0:00:01\r\u001b[K     |██▋                             | 184 kB 9.2 MB/s eta 0:00:01\r\u001b[K     |██▊                             | 194 kB 9.2 MB/s eta 0:00:01\r\u001b[K     |██▉                             | 204 kB 9.2 MB/s eta 0:00:01\r\u001b[K     |███                             | 215 kB 9.2 MB/s eta 0:00:01\r\u001b[K     |███▏                            | 225 kB 9.2 MB/s eta 0:00:01\r\u001b[K     |███▎                            | 235 kB 9.2 MB/s eta 0:00:01\r\u001b[K     |███▌                            | 245 kB 9.2 MB/s eta 0:00:01\r\u001b[K     |███▋                            | 256 kB 9.2 MB/s eta 0:00:01\r\u001b[K     |███▊                            | 266 kB 9.2 MB/s eta 0:00:01\r\u001b[K     |███▉                            | 276 kB 9.2 MB/s eta 0:00:01\r\u001b[K     |████                            | 286 kB 9.2 MB/s eta 0:00:01\r\u001b[K     |████▏                           | 296 kB 9.2 MB/s eta 0:00:01\r\u001b[K     |████▎                           | 307 kB 9.2 MB/s eta 0:00:01\r\u001b[K     |████▌                           | 317 kB 9.2 MB/s eta 0:00:01\r\u001b[K     |████▋                           | 327 kB 9.2 MB/s eta 0:00:01\r\u001b[K     |████▊                           | 337 kB 9.2 MB/s eta 0:00:01\r\u001b[K     |████▉                           | 348 kB 9.2 MB/s eta 0:00:01\r\u001b[K     |█████                           | 358 kB 9.2 MB/s eta 0:00:01\r\u001b[K     |█████▏                          | 368 kB 9.2 MB/s eta 0:00:01\r\u001b[K     |█████▎                          | 378 kB 9.2 MB/s eta 0:00:01\r\u001b[K     |█████▌                          | 389 kB 9.2 MB/s eta 0:00:01\r\u001b[K     |█████▋                          | 399 kB 9.2 MB/s eta 0:00:01\r\u001b[K     |█████▊                          | 409 kB 9.2 MB/s eta 0:00:01\r\u001b[K     |██████                          | 419 kB 9.2 MB/s eta 0:00:01\r\u001b[K     |██████                          | 430 kB 9.2 MB/s eta 0:00:01\r\u001b[K     |██████▏                         | 440 kB 9.2 MB/s eta 0:00:01\r\u001b[K     |██████▎                         | 450 kB 9.2 MB/s eta 0:00:01\r\u001b[K     |██████▌                         | 460 kB 9.2 MB/s eta 0:00:01\r\u001b[K     |██████▋                         | 471 kB 9.2 MB/s eta 0:00:01\r\u001b[K     |██████▊                         | 481 kB 9.2 MB/s eta 0:00:01\r\u001b[K     |███████                         | 491 kB 9.2 MB/s eta 0:00:01\r\u001b[K     |███████                         | 501 kB 9.2 MB/s eta 0:00:01\r\u001b[K     |███████▏                        | 512 kB 9.2 MB/s eta 0:00:01\r\u001b[K     |███████▎                        | 522 kB 9.2 MB/s eta 0:00:01\r\u001b[K     |███████▌                        | 532 kB 9.2 MB/s eta 0:00:01\r\u001b[K     |███████▋                        | 542 kB 9.2 MB/s eta 0:00:01\r\u001b[K     |███████▊                        | 552 kB 9.2 MB/s eta 0:00:01\r\u001b[K     |████████                        | 563 kB 9.2 MB/s eta 0:00:01\r\u001b[K     |████████                        | 573 kB 9.2 MB/s eta 0:00:01\r\u001b[K     |████████▏                       | 583 kB 9.2 MB/s eta 0:00:01\r\u001b[K     |████████▍                       | 593 kB 9.2 MB/s eta 0:00:01\r\u001b[K     |████████▌                       | 604 kB 9.2 MB/s eta 0:00:01\r\u001b[K     |████████▋                       | 614 kB 9.2 MB/s eta 0:00:01\r\u001b[K     |████████▊                       | 624 kB 9.2 MB/s eta 0:00:01\r\u001b[K     |█████████                       | 634 kB 9.2 MB/s eta 0:00:01\r\u001b[K     |█████████                       | 645 kB 9.2 MB/s eta 0:00:01\r\u001b[K     |█████████▏                      | 655 kB 9.2 MB/s eta 0:00:01\r\u001b[K     |█████████▍                      | 665 kB 9.2 MB/s eta 0:00:01\r\u001b[K     |█████████▌                      | 675 kB 9.2 MB/s eta 0:00:01\r\u001b[K     |█████████▋                      | 686 kB 9.2 MB/s eta 0:00:01\r\u001b[K     |█████████▊                      | 696 kB 9.2 MB/s eta 0:00:01\r\u001b[K     |██████████                      | 706 kB 9.2 MB/s eta 0:00:01\r\u001b[K     |██████████                      | 716 kB 9.2 MB/s eta 0:00:01\r\u001b[K     |██████████▏                     | 727 kB 9.2 MB/s eta 0:00:01\r\u001b[K     |██████████▍                     | 737 kB 9.2 MB/s eta 0:00:01\r\u001b[K     |██████████▌                     | 747 kB 9.2 MB/s eta 0:00:01\r\u001b[K     |██████████▋                     | 757 kB 9.2 MB/s eta 0:00:01\r\u001b[K     |██████████▉                     | 768 kB 9.2 MB/s eta 0:00:01\r\u001b[K     |███████████                     | 778 kB 9.2 MB/s eta 0:00:01\r\u001b[K     |███████████                     | 788 kB 9.2 MB/s eta 0:00:01\r\u001b[K     |███████████▏                    | 798 kB 9.2 MB/s eta 0:00:01\r\u001b[K     |███████████▍                    | 808 kB 9.2 MB/s eta 0:00:01\r\u001b[K     |███████████▌                    | 819 kB 9.2 MB/s eta 0:00:01\r\u001b[K     |███████████▋                    | 829 kB 9.2 MB/s eta 0:00:01\r\u001b[K     |███████████▉                    | 839 kB 9.2 MB/s eta 0:00:01\r\u001b[K     |████████████                    | 849 kB 9.2 MB/s eta 0:00:01\r\u001b[K     |████████████                    | 860 kB 9.2 MB/s eta 0:00:01\r\u001b[K     |████████████▏                   | 870 kB 9.2 MB/s eta 0:00:01\r\u001b[K     |████████████▍                   | 880 kB 9.2 MB/s eta 0:00:01\r\u001b[K     |████████████▌                   | 890 kB 9.2 MB/s eta 0:00:01\r\u001b[K     |████████████▋                   | 901 kB 9.2 MB/s eta 0:00:01\r\u001b[K     |████████████▉                   | 911 kB 9.2 MB/s eta 0:00:01\r\u001b[K     |█████████████                   | 921 kB 9.2 MB/s eta 0:00:01\r\u001b[K     |█████████████                   | 931 kB 9.2 MB/s eta 0:00:01\r\u001b[K     |█████████████▎                  | 942 kB 9.2 MB/s eta 0:00:01\r\u001b[K     |█████████████▍                  | 952 kB 9.2 MB/s eta 0:00:01\r\u001b[K     |█████████████▌                  | 962 kB 9.2 MB/s eta 0:00:01\r\u001b[K     |█████████████▋                  | 972 kB 9.2 MB/s eta 0:00:01\r\u001b[K     |█████████████▉                  | 983 kB 9.2 MB/s eta 0:00:01\r\u001b[K     |██████████████                  | 993 kB 9.2 MB/s eta 0:00:01\r\u001b[K     |██████████████                  | 1.0 MB 9.2 MB/s eta 0:00:01\r\u001b[K     |██████████████▎                 | 1.0 MB 9.2 MB/s eta 0:00:01\r\u001b[K     |██████████████▍                 | 1.0 MB 9.2 MB/s eta 0:00:01\r\u001b[K     |██████████████▌                 | 1.0 MB 9.2 MB/s eta 0:00:01\r\u001b[K     |██████████████▋                 | 1.0 MB 9.2 MB/s eta 0:00:01\r\u001b[K     |██████████████▉                 | 1.1 MB 9.2 MB/s eta 0:00:01\r\u001b[K     |███████████████                 | 1.1 MB 9.2 MB/s eta 0:00:01\r\u001b[K     |███████████████                 | 1.1 MB 9.2 MB/s eta 0:00:01\r\u001b[K     |███████████████▎                | 1.1 MB 9.2 MB/s eta 0:00:01\r\u001b[K     |███████████████▍                | 1.1 MB 9.2 MB/s eta 0:00:01\r\u001b[K     |███████████████▌                | 1.1 MB 9.2 MB/s eta 0:00:01\r\u001b[K     |███████████████▊                | 1.1 MB 9.2 MB/s eta 0:00:01\r\u001b[K     |███████████████▉                | 1.1 MB 9.2 MB/s eta 0:00:01\r\u001b[K     |████████████████                | 1.1 MB 9.2 MB/s eta 0:00:01\r\u001b[K     |████████████████                | 1.1 MB 9.2 MB/s eta 0:00:01\r\u001b[K     |████████████████▎               | 1.2 MB 9.2 MB/s eta 0:00:01\r\u001b[K     |████████████████▍               | 1.2 MB 9.2 MB/s eta 0:00:01\r\u001b[K     |████████████████▌               | 1.2 MB 9.2 MB/s eta 0:00:01\r\u001b[K     |████████████████▊               | 1.2 MB 9.2 MB/s eta 0:00:01\r\u001b[K     |████████████████▉               | 1.2 MB 9.2 MB/s eta 0:00:01\r\u001b[K     |█████████████████               | 1.2 MB 9.2 MB/s eta 0:00:01\r\u001b[K     |█████████████████               | 1.2 MB 9.2 MB/s eta 0:00:01\r\u001b[K     |█████████████████▎              | 1.2 MB 9.2 MB/s eta 0:00:01\r\u001b[K     |█████████████████▍              | 1.2 MB 9.2 MB/s eta 0:00:01\r\u001b[K     |█████████████████▌              | 1.2 MB 9.2 MB/s eta 0:00:01\r\u001b[K     |█████████████████▊              | 1.3 MB 9.2 MB/s eta 0:00:01\r\u001b[K     |█████████████████▉              | 1.3 MB 9.2 MB/s eta 0:00:01\r\u001b[K     |██████████████████              | 1.3 MB 9.2 MB/s eta 0:00:01\r\u001b[K     |██████████████████▏             | 1.3 MB 9.2 MB/s eta 0:00:01\r\u001b[K     |██████████████████▎             | 1.3 MB 9.2 MB/s eta 0:00:01\r\u001b[K     |██████████████████▍             | 1.3 MB 9.2 MB/s eta 0:00:01\r\u001b[K     |██████████████████▌             | 1.3 MB 9.2 MB/s eta 0:00:01\r\u001b[K     |██████████████████▊             | 1.3 MB 9.2 MB/s eta 0:00:01\r\u001b[K     |██████████████████▉             | 1.3 MB 9.2 MB/s eta 0:00:01\r\u001b[K     |███████████████████             | 1.4 MB 9.2 MB/s eta 0:00:01\r\u001b[K     |███████████████████▏            | 1.4 MB 9.2 MB/s eta 0:00:01\r\u001b[K     |███████████████████▎            | 1.4 MB 9.2 MB/s eta 0:00:01\r\u001b[K     |███████████████████▍            | 1.4 MB 9.2 MB/s eta 0:00:01\r\u001b[K     |███████████████████▌            | 1.4 MB 9.2 MB/s eta 0:00:01\r\u001b[K     |███████████████████▊            | 1.4 MB 9.2 MB/s eta 0:00:01\r\u001b[K     |███████████████████▉            | 1.4 MB 9.2 MB/s eta 0:00:01\r\u001b[K     |████████████████████            | 1.4 MB 9.2 MB/s eta 0:00:01\r\u001b[K     |████████████████████▏           | 1.4 MB 9.2 MB/s eta 0:00:01\r\u001b[K     |████████████████████▎           | 1.4 MB 9.2 MB/s eta 0:00:01\r\u001b[K     |████████████████████▍           | 1.5 MB 9.2 MB/s eta 0:00:01\r\u001b[K     |████████████████████▋           | 1.5 MB 9.2 MB/s eta 0:00:01\r\u001b[K     |████████████████████▊           | 1.5 MB 9.2 MB/s eta 0:00:01\r\u001b[K     |████████████████████▉           | 1.5 MB 9.2 MB/s eta 0:00:01\r\u001b[K     |█████████████████████           | 1.5 MB 9.2 MB/s eta 0:00:01\r\u001b[K     |█████████████████████▏          | 1.5 MB 9.2 MB/s eta 0:00:01\r\u001b[K     |█████████████████████▎          | 1.5 MB 9.2 MB/s eta 0:00:01\r\u001b[K     |█████████████████████▍          | 1.5 MB 9.2 MB/s eta 0:00:01\r\u001b[K     |█████████████████████▋          | 1.5 MB 9.2 MB/s eta 0:00:01\r\u001b[K     |█████████████████████▊          | 1.5 MB 9.2 MB/s eta 0:00:01\r\u001b[K     |█████████████████████▉          | 1.6 MB 9.2 MB/s eta 0:00:01\r\u001b[K     |██████████████████████          | 1.6 MB 9.2 MB/s eta 0:00:01\r\u001b[K     |██████████████████████▏         | 1.6 MB 9.2 MB/s eta 0:00:01\r\u001b[K     |██████████████████████▎         | 1.6 MB 9.2 MB/s eta 0:00:01\r\u001b[K     |██████████████████████▍         | 1.6 MB 9.2 MB/s eta 0:00:01\r\u001b[K     |██████████████████████▋         | 1.6 MB 9.2 MB/s eta 0:00:01\r\u001b[K     |██████████████████████▊         | 1.6 MB 9.2 MB/s eta 0:00:01\r\u001b[K     |██████████████████████▉         | 1.6 MB 9.2 MB/s eta 0:00:01\r\u001b[K     |███████████████████████         | 1.6 MB 9.2 MB/s eta 0:00:01\r\u001b[K     |███████████████████████▏        | 1.6 MB 9.2 MB/s eta 0:00:01\r\u001b[K     |███████████████████████▎        | 1.7 MB 9.2 MB/s eta 0:00:01\r\u001b[K     |███████████████████████▍        | 1.7 MB 9.2 MB/s eta 0:00:01\r\u001b[K     |███████████████████████▋        | 1.7 MB 9.2 MB/s eta 0:00:01\r\u001b[K     |███████████████████████▊        | 1.7 MB 9.2 MB/s eta 0:00:01\r\u001b[K     |███████████████████████▉        | 1.7 MB 9.2 MB/s eta 0:00:01\r\u001b[K     |████████████████████████        | 1.7 MB 9.2 MB/s eta 0:00:01\r\u001b[K     |████████████████████████▏       | 1.7 MB 9.2 MB/s eta 0:00:01\r\u001b[K     |████████████████████████▎       | 1.7 MB 9.2 MB/s eta 0:00:01\r\u001b[K     |████████████████████████▍       | 1.7 MB 9.2 MB/s eta 0:00:01\r\u001b[K     |████████████████████████▋       | 1.8 MB 9.2 MB/s eta 0:00:01\r\u001b[K     |████████████████████████▊       | 1.8 MB 9.2 MB/s eta 0:00:01\r\u001b[K     |████████████████████████▉       | 1.8 MB 9.2 MB/s eta 0:00:01\r\u001b[K     |█████████████████████████       | 1.8 MB 9.2 MB/s eta 0:00:01\r\u001b[K     |█████████████████████████▏      | 1.8 MB 9.2 MB/s eta 0:00:01\r\u001b[K     |█████████████████████████▎      | 1.8 MB 9.2 MB/s eta 0:00:01\r\u001b[K     |█████████████████████████▌      | 1.8 MB 9.2 MB/s eta 0:00:01\r\u001b[K     |█████████████████████████▋      | 1.8 MB 9.2 MB/s eta 0:00:01\r\u001b[K     |█████████████████████████▊      | 1.8 MB 9.2 MB/s eta 0:00:01\r\u001b[K     |█████████████████████████▉      | 1.8 MB 9.2 MB/s eta 0:00:01\r\u001b[K     |██████████████████████████      | 1.9 MB 9.2 MB/s eta 0:00:01\r\u001b[K     |██████████████████████████▏     | 1.9 MB 9.2 MB/s eta 0:00:01\r\u001b[K     |██████████████████████████▎     | 1.9 MB 9.2 MB/s eta 0:00:01\r\u001b[K     |██████████████████████████▌     | 1.9 MB 9.2 MB/s eta 0:00:01\r\u001b[K     |██████████████████████████▋     | 1.9 MB 9.2 MB/s eta 0:00:01\r\u001b[K     |██████████████████████████▊     | 1.9 MB 9.2 MB/s eta 0:00:01\r\u001b[K     |██████████████████████████▉     | 1.9 MB 9.2 MB/s eta 0:00:01\r\u001b[K     |███████████████████████████     | 1.9 MB 9.2 MB/s eta 0:00:01\r\u001b[K     |███████████████████████████▏    | 1.9 MB 9.2 MB/s eta 0:00:01\r\u001b[K     |███████████████████████████▎    | 1.9 MB 9.2 MB/s eta 0:00:01\r\u001b[K     |███████████████████████████▌    | 2.0 MB 9.2 MB/s eta 0:00:01\r\u001b[K     |███████████████████████████▋    | 2.0 MB 9.2 MB/s eta 0:00:01\r\u001b[K     |███████████████████████████▊    | 2.0 MB 9.2 MB/s eta 0:00:01\r\u001b[K     |████████████████████████████    | 2.0 MB 9.2 MB/s eta 0:00:01\r\u001b[K     |████████████████████████████    | 2.0 MB 9.2 MB/s eta 0:00:01\r\u001b[K     |████████████████████████████▏   | 2.0 MB 9.2 MB/s eta 0:00:01\r\u001b[K     |████████████████████████████▎   | 2.0 MB 9.2 MB/s eta 0:00:01\r\u001b[K     |████████████████████████████▌   | 2.0 MB 9.2 MB/s eta 0:00:01\r\u001b[K     |████████████████████████████▋   | 2.0 MB 9.2 MB/s eta 0:00:01\r\u001b[K     |████████████████████████████▊   | 2.0 MB 9.2 MB/s eta 0:00:01\r\u001b[K     |█████████████████████████████   | 2.1 MB 9.2 MB/s eta 0:00:01\r\u001b[K     |█████████████████████████████   | 2.1 MB 9.2 MB/s eta 0:00:01\r\u001b[K     |█████████████████████████████▏  | 2.1 MB 9.2 MB/s eta 0:00:01\r\u001b[K     |█████████████████████████████▎  | 2.1 MB 9.2 MB/s eta 0:00:01\r\u001b[K     |█████████████████████████████▌  | 2.1 MB 9.2 MB/s eta 0:00:01\r\u001b[K     |█████████████████████████████▋  | 2.1 MB 9.2 MB/s eta 0:00:01\r\u001b[K     |█████████████████████████████▊  | 2.1 MB 9.2 MB/s eta 0:00:01\r\u001b[K     |██████████████████████████████  | 2.1 MB 9.2 MB/s eta 0:00:01\r\u001b[K     |██████████████████████████████  | 2.1 MB 9.2 MB/s eta 0:00:01\r\u001b[K     |██████████████████████████████▏ | 2.2 MB 9.2 MB/s eta 0:00:01\r\u001b[K     |██████████████████████████████▍ | 2.2 MB 9.2 MB/s eta 0:00:01\r\u001b[K     |██████████████████████████████▌ | 2.2 MB 9.2 MB/s eta 0:00:01\r\u001b[K     |██████████████████████████████▋ | 2.2 MB 9.2 MB/s eta 0:00:01\r\u001b[K     |██████████████████████████████▊ | 2.2 MB 9.2 MB/s eta 0:00:01\r\u001b[K     |███████████████████████████████ | 2.2 MB 9.2 MB/s eta 0:00:01\r\u001b[K     |███████████████████████████████ | 2.2 MB 9.2 MB/s eta 0:00:01\r\u001b[K     |███████████████████████████████▏| 2.2 MB 9.2 MB/s eta 0:00:01\r\u001b[K     |███████████████████████████████▍| 2.2 MB 9.2 MB/s eta 0:00:01\r\u001b[K     |███████████████████████████████▌| 2.2 MB 9.2 MB/s eta 0:00:01\r\u001b[K     |███████████████████████████████▋| 2.3 MB 9.2 MB/s eta 0:00:01\r\u001b[K     |███████████████████████████████▊| 2.3 MB 9.2 MB/s eta 0:00:01\r\u001b[K     |████████████████████████████████| 2.3 MB 9.2 MB/s eta 0:00:01\r\u001b[K     |████████████████████████████████| 2.3 MB 9.2 MB/s \n",
            "\u001b[?25h"
          ]
        }
      ]
    },
    {
      "cell_type": "code",
      "source": [
        "from Bio import Entrez\n",
        "from Bio import Medline"
      ],
      "metadata": {
        "id": "sbpXaatqWh-s"
      },
      "execution_count": 6,
      "outputs": []
    },
    {
      "cell_type": "markdown",
      "source": [
        "## Medical Subject Headings (MeSH)"
      ],
      "metadata": {
        "id": "gFmAM4b-Wh2i"
      }
    },
    {
      "cell_type": "code",
      "source": [
        "def fetch_data(pmids):\n",
        "    \"\"\"Returns MEDLINE record associated with the PMID(s)\"\"\"\n",
        "    \n",
        "    Entrez.email = 'akishirsath@gmail.com'\n",
        "\n",
        "    handle = Entrez.efetch(db=\"pubmed\", \n",
        "                           id=pmids, \n",
        "                           rettype=\"medline\", \n",
        "                           retmode=\"text\")\n",
        "\n",
        "    records = Medline.parse(handle)    \n",
        "    \n",
        "    return list(records)"
      ],
      "metadata": {
        "id": "O6WaYIlx_3M8"
      },
      "execution_count": 7,
      "outputs": []
    },
    {
      "cell_type": "code",
      "source": [
        "pmid = '25006672'"
      ],
      "metadata": {
        "id": "mdqm5Gpl_3P7"
      },
      "execution_count": 8,
      "outputs": []
    },
    {
      "cell_type": "code",
      "source": [
        "data = fetch_data(pmid)\n",
        "data"
      ],
      "metadata": {
        "colab": {
          "base_uri": "https://localhost:8080/"
        },
        "id": "REAlSnJp_3Ta",
        "outputId": "e8ad08a0-4715-4065-84b5-4d2a7065c030"
      },
      "execution_count": 9,
      "outputs": [
        {
          "output_type": "execute_result",
          "data": {
            "text/plain": [
              "[{'AB': \"Concept associations can be represented by a network that consists of a set of nodes representing concepts and a set of edges representing their relationships. Complex networks exhibit some common topological features including small diameter, high degree of clustering, power-law degree distribution, and modularity. We investigated the topological properties of a network constructed from co-occurrences between MeSH descriptors in the MEDLINE database. We conducted the analysis on two networks, one constructed from all MeSH descriptors and another using only major descriptors. Network reduction was performed using the Pearson's chi-square test for independence. To characterize topological properties of the network we adopted some specific measures, including diameter, average path length, clustering coefficient, and degree distribution. For the full MeSH network the average path length was 1.95 with a diameter of three edges and clustering coefficient of 0.26. The Kolmogorov-Smirnov test rejects the power law as a plausible model for degree distribution. For the major MeSH network the average path length was 2.63 edges with a diameter of seven edges and clustering coefficient of 0.15. The Kolmogorov-Smirnov test failed to reject the power law as a plausible model. The power-law exponent was 5.07. In both networks it was evident that nodes with a lower degree exhibit higher clustering than those with a higher degree. After simulated attack, where we removed 10% of nodes with the highest degrees, the giant component of each of the two networks contains about 90% of all nodes. Because of small average path length and high degree of clustering the MeSH network is small-world. A power-law distribution is not a plausible model for the degree distribution. The network is highly modular, highly resistant to targeted and random attack and with minimal dissortativity.\",\n",
              "  'AD': ['Faculty of Information Studies, Novo mesto, Slovenia.',\n",
              "   'Lister Hill National Center for Biomedical Communications, National Library of Medicine, Bethesda, Maryland, United States of America.',\n",
              "   'Institute for Biostatistics and Medical Informatics, Faculty of Medicine, University of Ljubljana, Ljubljana, Slovenia.'],\n",
              "  'AID': ['10.1371/journal.pone.0102188 [doi]', 'PONE-D-14-04922 [pii]'],\n",
              "  'AU': ['Kastrin A', 'Rindflesch TC', 'Hristovski D'],\n",
              "  'CRDT': ['2014/07/10 06:00'],\n",
              "  'DCOM': '20160315',\n",
              "  'DEP': '20140709',\n",
              "  'DP': '2014',\n",
              "  'EDAT': '2014/07/10 06:00',\n",
              "  'FAU': ['Kastrin, Andrej', 'Rindflesch, Thomas C', 'Hristovski, Dimitar'],\n",
              "  'GR': ['Intramural NIH HHS/United States'],\n",
              "  'IP': '7',\n",
              "  'IS': '1932-6203 (Electronic) 1932-6203 (Linking)',\n",
              "  'JID': '101285081',\n",
              "  'JT': 'PloS one',\n",
              "  'LA': ['eng'],\n",
              "  'LID': '10.1371/journal.pone.0102188 [doi]',\n",
              "  'LR': '20211021',\n",
              "  'MH': ['Algorithms',\n",
              "   'Computational Biology/*methods',\n",
              "   'Humans',\n",
              "   '*Medical Subject Headings',\n",
              "   'Models, Statistical',\n",
              "   'Principal Component Analysis'],\n",
              "  'MHDA': '2016/03/16 06:00',\n",
              "  'OWN': 'NLM',\n",
              "  'PG': 'e102188',\n",
              "  'PHST': ['2014/02/01 00:00 [received]',\n",
              "   '2014/06/17 00:00 [accepted]',\n",
              "   '2014/07/10 06:00 [entrez]',\n",
              "   '2014/07/10 06:00 [pubmed]',\n",
              "   '2016/03/16 06:00 [medline]'],\n",
              "  'PL': 'United States',\n",
              "  'PMC': 'PMC4090190',\n",
              "  'PMID': '25006672',\n",
              "  'PST': 'epublish',\n",
              "  'PT': ['Journal Article',\n",
              "   'Research Support, N.I.H., Intramural',\n",
              "   \"Research Support, Non-U.S. Gov't\"],\n",
              "  'SB': 'IM',\n",
              "  'SO': 'PLoS One. 2014 Jul 9;9(7):e102188. doi: 10.1371/journal.pone.0102188. eCollection 2014.',\n",
              "  'STAT': 'MEDLINE',\n",
              "  'TA': 'PLoS One',\n",
              "  'TI': 'Large-scale structure of a network of co-occurring MeSH terms: statistical analysis of macroscopic properties.',\n",
              "  'VI': '9'}]"
            ]
          },
          "metadata": {},
          "execution_count": 9
        }
      ]
    },
    {
      "cell_type": "code",
      "source": [
        "data_dict = data[0]"
      ],
      "metadata": {
        "id": "kWNp8VQ9Aq-c"
      },
      "execution_count": 14,
      "outputs": []
    },
    {
      "cell_type": "code",
      "source": [
        "data_dict"
      ],
      "metadata": {
        "colab": {
          "base_uri": "https://localhost:8080/"
        },
        "id": "w9Jgj3JmBLTc",
        "outputId": "92a7948d-ad71-4bca-fa9b-18c3750eb4c2"
      },
      "execution_count": 15,
      "outputs": [
        {
          "output_type": "execute_result",
          "data": {
            "text/plain": [
              "{'AB': \"Concept associations can be represented by a network that consists of a set of nodes representing concepts and a set of edges representing their relationships. Complex networks exhibit some common topological features including small diameter, high degree of clustering, power-law degree distribution, and modularity. We investigated the topological properties of a network constructed from co-occurrences between MeSH descriptors in the MEDLINE database. We conducted the analysis on two networks, one constructed from all MeSH descriptors and another using only major descriptors. Network reduction was performed using the Pearson's chi-square test for independence. To characterize topological properties of the network we adopted some specific measures, including diameter, average path length, clustering coefficient, and degree distribution. For the full MeSH network the average path length was 1.95 with a diameter of three edges and clustering coefficient of 0.26. The Kolmogorov-Smirnov test rejects the power law as a plausible model for degree distribution. For the major MeSH network the average path length was 2.63 edges with a diameter of seven edges and clustering coefficient of 0.15. The Kolmogorov-Smirnov test failed to reject the power law as a plausible model. The power-law exponent was 5.07. In both networks it was evident that nodes with a lower degree exhibit higher clustering than those with a higher degree. After simulated attack, where we removed 10% of nodes with the highest degrees, the giant component of each of the two networks contains about 90% of all nodes. Because of small average path length and high degree of clustering the MeSH network is small-world. A power-law distribution is not a plausible model for the degree distribution. The network is highly modular, highly resistant to targeted and random attack and with minimal dissortativity.\",\n",
              " 'AD': ['Faculty of Information Studies, Novo mesto, Slovenia.',\n",
              "  'Lister Hill National Center for Biomedical Communications, National Library of Medicine, Bethesda, Maryland, United States of America.',\n",
              "  'Institute for Biostatistics and Medical Informatics, Faculty of Medicine, University of Ljubljana, Ljubljana, Slovenia.'],\n",
              " 'AID': ['10.1371/journal.pone.0102188 [doi]', 'PONE-D-14-04922 [pii]'],\n",
              " 'AU': ['Kastrin A', 'Rindflesch TC', 'Hristovski D'],\n",
              " 'CRDT': ['2014/07/10 06:00'],\n",
              " 'DCOM': '20160315',\n",
              " 'DEP': '20140709',\n",
              " 'DP': '2014',\n",
              " 'EDAT': '2014/07/10 06:00',\n",
              " 'FAU': ['Kastrin, Andrej', 'Rindflesch, Thomas C', 'Hristovski, Dimitar'],\n",
              " 'GR': ['Intramural NIH HHS/United States'],\n",
              " 'IP': '7',\n",
              " 'IS': '1932-6203 (Electronic) 1932-6203 (Linking)',\n",
              " 'JID': '101285081',\n",
              " 'JT': 'PloS one',\n",
              " 'LA': ['eng'],\n",
              " 'LID': '10.1371/journal.pone.0102188 [doi]',\n",
              " 'LR': '20211021',\n",
              " 'MH': ['Algorithms',\n",
              "  'Computational Biology/*methods',\n",
              "  'Humans',\n",
              "  '*Medical Subject Headings',\n",
              "  'Models, Statistical',\n",
              "  'Principal Component Analysis'],\n",
              " 'MHDA': '2016/03/16 06:00',\n",
              " 'OWN': 'NLM',\n",
              " 'PG': 'e102188',\n",
              " 'PHST': ['2014/02/01 00:00 [received]',\n",
              "  '2014/06/17 00:00 [accepted]',\n",
              "  '2014/07/10 06:00 [entrez]',\n",
              "  '2014/07/10 06:00 [pubmed]',\n",
              "  '2016/03/16 06:00 [medline]'],\n",
              " 'PL': 'United States',\n",
              " 'PMC': 'PMC4090190',\n",
              " 'PMID': '25006672',\n",
              " 'PST': 'epublish',\n",
              " 'PT': ['Journal Article',\n",
              "  'Research Support, N.I.H., Intramural',\n",
              "  \"Research Support, Non-U.S. Gov't\"],\n",
              " 'SB': 'IM',\n",
              " 'SO': 'PLoS One. 2014 Jul 9;9(7):e102188. doi: 10.1371/journal.pone.0102188. eCollection 2014.',\n",
              " 'STAT': 'MEDLINE',\n",
              " 'TA': 'PLoS One',\n",
              " 'TI': 'Large-scale structure of a network of co-occurring MeSH terms: statistical analysis of macroscopic properties.',\n",
              " 'VI': '9'}"
            ]
          },
          "metadata": {},
          "execution_count": 15
        }
      ]
    },
    {
      "cell_type": "code",
      "source": [
        "for field_desc, data in (data_dict.items()):\n",
        "  print(f\"{field_desc}\\t{data}\")"
      ],
      "metadata": {
        "colab": {
          "base_uri": "https://localhost:8080/"
        },
        "id": "_saQSwPwAxC6",
        "outputId": "9bcd6f4e-928b-4dcf-bf13-b496022adac9"
      },
      "execution_count": 16,
      "outputs": [
        {
          "output_type": "stream",
          "name": "stdout",
          "text": [
            "PMID\t25006672\n",
            "OWN\tNLM\n",
            "STAT\tMEDLINE\n",
            "DCOM\t20160315\n",
            "LR\t20211021\n",
            "IS\t1932-6203 (Electronic) 1932-6203 (Linking)\n",
            "VI\t9\n",
            "IP\t7\n",
            "DP\t2014\n",
            "TI\tLarge-scale structure of a network of co-occurring MeSH terms: statistical analysis of macroscopic properties.\n",
            "PG\te102188\n",
            "LID\t10.1371/journal.pone.0102188 [doi]\n",
            "AB\tConcept associations can be represented by a network that consists of a set of nodes representing concepts and a set of edges representing their relationships. Complex networks exhibit some common topological features including small diameter, high degree of clustering, power-law degree distribution, and modularity. We investigated the topological properties of a network constructed from co-occurrences between MeSH descriptors in the MEDLINE database. We conducted the analysis on two networks, one constructed from all MeSH descriptors and another using only major descriptors. Network reduction was performed using the Pearson's chi-square test for independence. To characterize topological properties of the network we adopted some specific measures, including diameter, average path length, clustering coefficient, and degree distribution. For the full MeSH network the average path length was 1.95 with a diameter of three edges and clustering coefficient of 0.26. The Kolmogorov-Smirnov test rejects the power law as a plausible model for degree distribution. For the major MeSH network the average path length was 2.63 edges with a diameter of seven edges and clustering coefficient of 0.15. The Kolmogorov-Smirnov test failed to reject the power law as a plausible model. The power-law exponent was 5.07. In both networks it was evident that nodes with a lower degree exhibit higher clustering than those with a higher degree. After simulated attack, where we removed 10% of nodes with the highest degrees, the giant component of each of the two networks contains about 90% of all nodes. Because of small average path length and high degree of clustering the MeSH network is small-world. A power-law distribution is not a plausible model for the degree distribution. The network is highly modular, highly resistant to targeted and random attack and with minimal dissortativity.\n",
            "FAU\t['Kastrin, Andrej', 'Rindflesch, Thomas C', 'Hristovski, Dimitar']\n",
            "AU\t['Kastrin A', 'Rindflesch TC', 'Hristovski D']\n",
            "AD\t['Faculty of Information Studies, Novo mesto, Slovenia.', 'Lister Hill National Center for Biomedical Communications, National Library of Medicine, Bethesda, Maryland, United States of America.', 'Institute for Biostatistics and Medical Informatics, Faculty of Medicine, University of Ljubljana, Ljubljana, Slovenia.']\n",
            "LA\t['eng']\n",
            "GR\t['Intramural NIH HHS/United States']\n",
            "PT\t['Journal Article', 'Research Support, N.I.H., Intramural', \"Research Support, Non-U.S. Gov't\"]\n",
            "DEP\t20140709\n",
            "PL\tUnited States\n",
            "TA\tPLoS One\n",
            "JT\tPloS one\n",
            "JID\t101285081\n",
            "SB\tIM\n",
            "MH\t['Algorithms', 'Computational Biology/*methods', 'Humans', '*Medical Subject Headings', 'Models, Statistical', 'Principal Component Analysis']\n",
            "PMC\tPMC4090190\n",
            "EDAT\t2014/07/10 06:00\n",
            "MHDA\t2016/03/16 06:00\n",
            "CRDT\t['2014/07/10 06:00']\n",
            "PHST\t['2014/02/01 00:00 [received]', '2014/06/17 00:00 [accepted]', '2014/07/10 06:00 [entrez]', '2014/07/10 06:00 [pubmed]', '2016/03/16 06:00 [medline]']\n",
            "AID\t['10.1371/journal.pone.0102188 [doi]', 'PONE-D-14-04922 [pii]']\n",
            "PST\tepublish\n",
            "SO\tPLoS One. 2014 Jul 9;9(7):e102188. doi: 10.1371/journal.pone.0102188. eCollection 2014.\n"
          ]
        }
      ]
    },
    {
      "cell_type": "code",
      "source": [
        "data_dict.get('MH', 'NONE')"
      ],
      "metadata": {
        "colab": {
          "base_uri": "https://localhost:8080/"
        },
        "id": "DLseqGKJAxAQ",
        "outputId": "25405b93-3db4-455a-a9c0-1fb326d44da8"
      },
      "execution_count": 17,
      "outputs": [
        {
          "output_type": "execute_result",
          "data": {
            "text/plain": [
              "['Algorithms',\n",
              " 'Computational Biology/*methods',\n",
              " 'Humans',\n",
              " '*Medical Subject Headings',\n",
              " 'Models, Statistical',\n",
              " 'Principal Component Analysis']"
            ]
          },
          "metadata": {},
          "execution_count": 17
        }
      ]
    },
    {
      "cell_type": "markdown",
      "source": [
        "## Biological Named-entity recognition (BioNER)"
      ],
      "metadata": {
        "id": "uCNymwruWXqk"
      }
    },
    {
      "cell_type": "markdown",
      "source": [
        "Biomedical named entity recognition (BioNER) is an important and challenging task for understanding biomedical texts. It aims to recognize named entities (NEs), such as diseases, gene, species, etc., in biomedical texts and plays an important role in many downstream natural language processing (NLP) tasks, such as drug-drug interaction task and knowledge base completion"
      ],
      "metadata": {
        "id": "bbdI-rspYyjT"
      }
    },
    {
      "cell_type": "code",
      "source": [
        "!pip install -q nxviz\n",
        "!pip install -q scispacy\n",
        "!pip install -q https://s3-us-west-2.amazonaws.com/ai2-s2-scispacy/releases/v0.4.0/en_ner_bc5cdr_md-0.4.0.tar.gz"
      ],
      "metadata": {
        "id": "j97FTqfGWYLB",
        "colab": {
          "base_uri": "https://localhost:8080/"
        },
        "outputId": "0991a6ea-6f28-43fc-87c1-d1d120099f80"
      },
      "execution_count": 10,
      "outputs": [
        {
          "output_type": "stream",
          "name": "stdout",
          "text": [
            "\u001b[K     |████████████████████████████████| 4.8 MB 10.7 MB/s \n",
            "\u001b[K     |████████████████████████████████| 6.4 MB 33.5 MB/s \n",
            "\u001b[K     |████████████████████████████████| 11.2 MB 51.0 MB/s \n",
            "\u001b[K     |████████████████████████████████| 895 kB 51.9 MB/s \n",
            "\u001b[K     |████████████████████████████████| 76 kB 5.9 MB/s \n",
            "\u001b[K     |████████████████████████████████| 1.1 MB 46.2 MB/s \n",
            "\u001b[K     |████████████████████████████████| 216 kB 49.5 MB/s \n",
            "\u001b[K     |████████████████████████████████| 558 kB 61.2 MB/s \n",
            "\u001b[K     |████████████████████████████████| 181 kB 61.0 MB/s \n",
            "\u001b[K     |████████████████████████████████| 130 kB 46.4 MB/s \n",
            "\u001b[K     |████████████████████████████████| 63 kB 1.6 MB/s \n",
            "\u001b[31mERROR: pip's dependency resolver does not currently take into account all the packages that are installed. This behaviour is the source of the following dependency conflicts.\n",
            "datascience 0.10.6 requires folium==0.2.1, but you have folium 0.8.3 which is incompatible.\n",
            "albumentations 0.1.12 requires imgaug<0.2.7,>=0.2.5, but you have imgaug 0.2.9 which is incompatible.\u001b[0m\n",
            "\u001b[K     |████████████████████████████████| 44 kB 1.3 MB/s \n",
            "\u001b[K     |████████████████████████████████| 13.5 MB 9.9 MB/s \n",
            "\u001b[K     |████████████████████████████████| 71 kB 9.0 MB/s \n",
            "\u001b[K     |████████████████████████████████| 6.3 MB 24.9 MB/s \n",
            "\u001b[K     |████████████████████████████████| 188 kB 51.5 MB/s \n",
            "\u001b[K     |████████████████████████████████| 42 kB 1.7 MB/s \n",
            "\u001b[K     |████████████████████████████████| 451 kB 64.9 MB/s \n",
            "\u001b[K     |████████████████████████████████| 10.1 MB 52.3 MB/s \n",
            "\u001b[K     |████████████████████████████████| 628 kB 64.6 MB/s \n",
            "\u001b[K     |████████████████████████████████| 125.1 MB 33 kB/s \n",
            "\u001b[?25h  Building wheel for en-ner-bc5cdr-md (setup.py) ... \u001b[?25l\u001b[?25hdone\n"
          ]
        }
      ]
    },
    {
      "cell_type": "code",
      "source": [
        "import scispacy\n",
        "import spacy\n",
        "\n",
        "nlp = spacy.load(\"en_ner_bc5cdr_md\")"
      ],
      "metadata": {
        "id": "qGBTMc6zXU_u"
      },
      "execution_count": 11,
      "outputs": []
    }
  ]
}