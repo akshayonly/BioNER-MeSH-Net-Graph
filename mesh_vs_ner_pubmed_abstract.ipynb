{
  "nbformat": 4,
  "nbformat_minor": 0,
  "metadata": {
    "colab": {
      "name": "mesh_vs_ner_pubmed_abstract.ipynb",
      "provenance": [],
      "collapsed_sections": [
        "JPO8NgDQUPhC",
        "W4MpSGkEV107",
        "h5FZ9R7YV8xa",
        "gFmAM4b-Wh2i",
        "uCNymwruWXqk",
        "drQU0kWblFTi",
        "e8a5l-Fjl_IK"
      ],
      "authorship_tag": "ABX9TyOuwRrdX7Ug9Xw6Vj2C7Im7",
      "include_colab_link": true
    },
    "kernelspec": {
      "name": "python3",
      "display_name": "Python 3"
    },
    "language_info": {
      "name": "python"
    }
  },
  "cells": [
    {
      "cell_type": "markdown",
      "metadata": {
        "id": "view-in-github",
        "colab_type": "text"
      },
      "source": [
        "<a href=\"https://colab.research.google.com/github/akshayonly/BioNER-MeSH-Net-Graph/blob/main/mesh_vs_ner_pubmed_abstract.ipynb\" target=\"_parent\"><img src=\"https://colab.research.google.com/assets/colab-badge.svg\" alt=\"Open In Colab\"/></a>"
      ]
    },
    {
      "cell_type": "markdown",
      "source": [
        "# Medical Subject Heading Vs. Named Entity Recognition\n",
        "\n",
        "In this article, we'd explore BioNER and MeSH terms for building and visualizing network graphs of any PubMed articles."
      ],
      "metadata": {
        "id": "HVnAW_FwTqo9"
      }
    },
    {
      "cell_type": "markdown",
      "source": [
        "CONTENT\n",
        "1. Title\n",
        "2. Introduction\n",
        "3. PubMed, Medline & Entrez\n",
        "4. Medical subject headings (MeSH)\n",
        "5. Biological Named-entity recognition (BioNER)\n",
        "6. Building & Visualising Graphs\n",
        "  1. Networkx\n",
        "  2. Pyvis\n",
        "7. Abstract as Network Graph\n",
        "8. MeSH terms as Network Graph\n",
        "9. Conclusion\n",
        "10. References"
      ],
      "metadata": {
        "id": "lW6p0QK6s4ic"
      }
    },
    {
      "cell_type": "markdown",
      "source": [
        "## All Libraries"
      ],
      "metadata": {
        "id": "JPO8NgDQUPhC"
      }
    },
    {
      "cell_type": "code",
      "source": [
        "'''\n",
        "!pip install -q biopython\n",
        "!pip install -q pyvis\n",
        "!pip install -q nxviz\n",
        "!pip install -q scispacy\n",
        "!pip install -q https://s3-us-west-2.amazonaws.com/ai2-s2-scispacy/releases/v0.4.0/en_ner_bc5cdr_md-0.4.0.tar.gz\n",
        "\n",
        "import pandas as pd\n",
        "import seaborn as sns\n",
        "import networkx as nx\n",
        "import matplotlib.pyplot as plt\n",
        "\n",
        "import networkx as nx\n",
        "import pyvis as nt\n",
        "\n",
        "from Bio import Entrez\n",
        "from Bio import Medline\n",
        "\n",
        "import os\n",
        "from tqdm import tqdm\n",
        "\n",
        "import scispacy\n",
        "import spacy\n",
        "nlp = spacy.load(\"en_ner_bc5cdr_md\")\n",
        "'''"
      ],
      "metadata": {
        "colab": {
          "base_uri": "https://localhost:8080/",
          "height": 0
        },
        "id": "Ek43OfNCUTIi",
        "outputId": "760f3be7-da27-4ba2-b115-70d5cb04468d"
      },
      "execution_count": 1,
      "outputs": [
        {
          "output_type": "execute_result",
          "data": {
            "application/vnd.google.colaboratory.intrinsic+json": {
              "type": "string"
            },
            "text/plain": [
              "'\\n!pip install -q biopython\\n!pip install -q pyvis\\n!pip install -q nxviz\\n!pip install -q scispacy\\n!pip install -q https://s3-us-west-2.amazonaws.com/ai2-s2-scispacy/releases/v0.4.0/en_ner_bc5cdr_md-0.4.0.tar.gz\\n\\nimport pandas as pd\\nimport seaborn as sns\\nimport networkx as nx\\nimport matplotlib.pyplot as plt\\n\\nimport networkx as nx\\nimport pyvis as nt\\n\\nfrom Bio import Entrez\\nfrom Bio import Medline\\n\\nimport os\\nfrom tqdm import tqdm\\n\\nimport scispacy\\nimport spacy\\nnlp = spacy.load(\"en_ner_bc5cdr_md\")\\n'"
            ]
          },
          "metadata": {},
          "execution_count": 1
        }
      ]
    },
    {
      "cell_type": "markdown",
      "source": [
        "## Introduction"
      ],
      "metadata": {
        "id": "W4MpSGkEV107"
      }
    },
    {
      "cell_type": "code",
      "source": [
        "# Pass"
      ],
      "metadata": {
        "id": "wmAYQLiGV4KK"
      },
      "execution_count": 2,
      "outputs": []
    },
    {
      "cell_type": "markdown",
      "source": [
        "## PubMed & Entrez"
      ],
      "metadata": {
        "id": "h5FZ9R7YV8xa"
      }
    },
    {
      "cell_type": "code",
      "source": [
        "!pip install -q biopython"
      ],
      "metadata": {
        "id": "aE8J1l34V9hh"
      },
      "execution_count": 3,
      "outputs": []
    },
    {
      "cell_type": "code",
      "source": [
        "from Bio import Entrez\n",
        "from Bio import Medline"
      ],
      "metadata": {
        "id": "sbpXaatqWh-s"
      },
      "execution_count": 4,
      "outputs": []
    },
    {
      "cell_type": "markdown",
      "source": [
        "## Medical Subject Headings (MeSH)"
      ],
      "metadata": {
        "id": "gFmAM4b-Wh2i"
      }
    },
    {
      "cell_type": "code",
      "source": [
        "def fetch_data(pmids):\n",
        "    \"\"\"Returns MEDLINE record associated with the PMID(s)\"\"\"\n",
        "    \n",
        "    Entrez.email = 'akishirsath@gmail.com'\n",
        "\n",
        "    handle = Entrez.efetch(db=\"pubmed\", \n",
        "                           id=pmids, \n",
        "                           rettype=\"medline\", \n",
        "                           retmode=\"text\")\n",
        "\n",
        "    records = Medline.parse(handle)    \n",
        "    \n",
        "    return list(records)"
      ],
      "metadata": {
        "id": "O6WaYIlx_3M8"
      },
      "execution_count": 5,
      "outputs": []
    },
    {
      "cell_type": "code",
      "source": [
        "pmid = '29614878'"
      ],
      "metadata": {
        "id": "mdqm5Gpl_3P7"
      },
      "execution_count": 6,
      "outputs": []
    },
    {
      "cell_type": "code",
      "source": [
        "data = fetch_data(pmid)\n",
        "data"
      ],
      "metadata": {
        "colab": {
          "base_uri": "https://localhost:8080/"
        },
        "id": "REAlSnJp_3Ta",
        "outputId": "0c922bbc-c6df-420f-a0b8-68d72ecda9ab"
      },
      "execution_count": 7,
      "outputs": [
        {
          "output_type": "execute_result",
          "data": {
            "text/plain": [
              "[{'AB': \"OBJECTIVES: To provide a clinical update for general psychiatrists on the assessment and diagnosis of Alzheimer's disease (AD), highlighting current issues regarding epidemiology, risk factors and pathophysiology from recent relevant research findings. CONCLUSIONS: Psychiatrists can apply their skills and training in the diagnosis of AD, which is based upon a comprehensive assessment comprising history, investigations, and cognitive and functional assessment, guided by accepted diagnostic criteria.\",\n",
              "  'AD': ['Neuropsychiatrist, Neuropsychiatry Unit, Royal Melbourne Hospital, Parkville, VIC, and; Melbourne Neuropsychiatry Centre, University of Melbourne, and; NorthWestern Mental Health, Melbourne, VIC, Australia.',\n",
              "   'Neuropsychiatrist, Neuropsychiatry Unit, Royal Melbourne Hospital, Parkville, VIC, and; Department of Psychiatry, University of Melbourne, and; NorthWestern Mental Health, Melbourne, VIC, Australia.',\n",
              "   'Neuropsychiatrist, Neuropsychiatry Unit, Royal Melbourne Hospital, Parkville, VIC, and; Melbourne Neuropsychiatry Centre, University of Melbourne, and; NorthWestern Mental Health, Melbourne, VIC, Australia.',\n",
              "   'Neuropsychiatrist, Neuropsychiatry Unit, Royal Melbourne Hospital, Parkville, VIC, and; Melbourne Neuropsychiatry Centre, University of Melbourne, and; NorthWestern Mental Health, Melbourne, VIC, Australia.',\n",
              "   'Neuropsychiatrist, Neuropsychiatry Unit, Royal Melbourne Hospital, Parkville, VIC, and; Melbourne Neuropsychiatry Centre, University of Melbourne, and; NorthWestern Mental Health, Melbourne, VIC, Australia.',\n",
              "   'Clinical Associate Professor, Neuropsychiatry Unit, Royal Melbourne Hospital, Parkville, VIC, and; Melbourne Neuropsychiatry Centre, University of Melbourne, Melbourne, VIC, and; Associate Professor and Acting Head, Academic Unit of Psychiatry and Addiction Medicine, Australian National University Medical School, Canberra Hospital, Garran, ACT, Australia.'],\n",
              "  'AID': ['10.1177/1039856218762308 [doi]'],\n",
              "  'AU': ['Eratne D',\n",
              "   'Loi SM',\n",
              "   'Farrand S',\n",
              "   'Kelso W',\n",
              "   'Velakoulis D',\n",
              "   'Looi JC'],\n",
              "  'AUID': ['ORCID: https://orcid.org/0000-0002-4953-4500',\n",
              "   'ORCID: https://orcid.org/0000-0003-3351-6911'],\n",
              "  'CRDT': ['2018/04/05 06:00'],\n",
              "  'DCOM': '20190405',\n",
              "  'DEP': '20180403',\n",
              "  'DP': '2018 Aug',\n",
              "  'EDAT': '2018/04/05 06:00',\n",
              "  'FAU': ['Eratne, Dhamidhu',\n",
              "   'Loi, Samantha M',\n",
              "   'Farrand, Sarah',\n",
              "   'Kelso, Wendy',\n",
              "   'Velakoulis, Dennis',\n",
              "   'Looi, Jeffrey Cl'],\n",
              "  'IP': '4',\n",
              "  'IS': '1440-1665 (Electronic) 1039-8562 (Linking)',\n",
              "  'JID': '9613603',\n",
              "  'JT': 'Australasian psychiatry : bulletin of Royal Australian and New Zealand College of Psychiatrists',\n",
              "  'LA': ['eng'],\n",
              "  'LID': '10.1177/1039856218762308 [doi]',\n",
              "  'LR': '20190405',\n",
              "  'MH': ['*Alzheimer Disease/diagnosis/epidemiology/physiopathology',\n",
              "   'Humans'],\n",
              "  'MHDA': '2019/04/06 06:00',\n",
              "  'OT': [\"Alzheimer's disease\",\n",
              "   'behavioural and psychological symptoms of dementia',\n",
              "   'diagnosis',\n",
              "   'neuropsychiatric symptoms',\n",
              "   'pathophysiology',\n",
              "   'psychiatry'],\n",
              "  'OTO': ['NOTNLM'],\n",
              "  'OWN': 'NLM',\n",
              "  'PG': '347-357',\n",
              "  'PHST': ['2018/04/05 06:00 [pubmed]',\n",
              "   '2019/04/06 06:00 [medline]',\n",
              "   '2018/04/05 06:00 [entrez]'],\n",
              "  'PL': 'England',\n",
              "  'PMID': '29614878',\n",
              "  'PST': 'ppublish',\n",
              "  'PT': ['Journal Article', 'Review'],\n",
              "  'SB': 'IM',\n",
              "  'SO': 'Australas Psychiatry. 2018 Aug;26(4):347-357. doi: 10.1177/1039856218762308. Epub 2018 Apr 3.',\n",
              "  'STAT': 'MEDLINE',\n",
              "  'TA': 'Australas Psychiatry',\n",
              "  'TI': \"Alzheimer's disease: clinical update on epidemiology, pathophysiology and diagnosis.\",\n",
              "  'VI': '26'}]"
            ]
          },
          "metadata": {},
          "execution_count": 7
        }
      ]
    },
    {
      "cell_type": "code",
      "source": [
        "data_dict = data[0]"
      ],
      "metadata": {
        "id": "kWNp8VQ9Aq-c"
      },
      "execution_count": 8,
      "outputs": []
    },
    {
      "cell_type": "code",
      "source": [
        "for field_desc, data in (data_dict.items()):\n",
        "  print(f\"{field_desc}\\t{data}\")"
      ],
      "metadata": {
        "colab": {
          "base_uri": "https://localhost:8080/"
        },
        "id": "_saQSwPwAxC6",
        "outputId": "7826290f-ba64-4b91-963c-5dcc2fed01e7"
      },
      "execution_count": 9,
      "outputs": [
        {
          "output_type": "stream",
          "name": "stdout",
          "text": [
            "PMID\t29614878\n",
            "OWN\tNLM\n",
            "STAT\tMEDLINE\n",
            "DCOM\t20190405\n",
            "LR\t20190405\n",
            "IS\t1440-1665 (Electronic) 1039-8562 (Linking)\n",
            "VI\t26\n",
            "IP\t4\n",
            "DP\t2018 Aug\n",
            "TI\tAlzheimer's disease: clinical update on epidemiology, pathophysiology and diagnosis.\n",
            "PG\t347-357\n",
            "LID\t10.1177/1039856218762308 [doi]\n",
            "AB\tOBJECTIVES: To provide a clinical update for general psychiatrists on the assessment and diagnosis of Alzheimer's disease (AD), highlighting current issues regarding epidemiology, risk factors and pathophysiology from recent relevant research findings. CONCLUSIONS: Psychiatrists can apply their skills and training in the diagnosis of AD, which is based upon a comprehensive assessment comprising history, investigations, and cognitive and functional assessment, guided by accepted diagnostic criteria.\n",
            "FAU\t['Eratne, Dhamidhu', 'Loi, Samantha M', 'Farrand, Sarah', 'Kelso, Wendy', 'Velakoulis, Dennis', 'Looi, Jeffrey Cl']\n",
            "AU\t['Eratne D', 'Loi SM', 'Farrand S', 'Kelso W', 'Velakoulis D', 'Looi JC']\n",
            "AD\t['Neuropsychiatrist, Neuropsychiatry Unit, Royal Melbourne Hospital, Parkville, VIC, and; Melbourne Neuropsychiatry Centre, University of Melbourne, and; NorthWestern Mental Health, Melbourne, VIC, Australia.', 'Neuropsychiatrist, Neuropsychiatry Unit, Royal Melbourne Hospital, Parkville, VIC, and; Department of Psychiatry, University of Melbourne, and; NorthWestern Mental Health, Melbourne, VIC, Australia.', 'Neuropsychiatrist, Neuropsychiatry Unit, Royal Melbourne Hospital, Parkville, VIC, and; Melbourne Neuropsychiatry Centre, University of Melbourne, and; NorthWestern Mental Health, Melbourne, VIC, Australia.', 'Neuropsychiatrist, Neuropsychiatry Unit, Royal Melbourne Hospital, Parkville, VIC, and; Melbourne Neuropsychiatry Centre, University of Melbourne, and; NorthWestern Mental Health, Melbourne, VIC, Australia.', 'Neuropsychiatrist, Neuropsychiatry Unit, Royal Melbourne Hospital, Parkville, VIC, and; Melbourne Neuropsychiatry Centre, University of Melbourne, and; NorthWestern Mental Health, Melbourne, VIC, Australia.', 'Clinical Associate Professor, Neuropsychiatry Unit, Royal Melbourne Hospital, Parkville, VIC, and; Melbourne Neuropsychiatry Centre, University of Melbourne, Melbourne, VIC, and; Associate Professor and Acting Head, Academic Unit of Psychiatry and Addiction Medicine, Australian National University Medical School, Canberra Hospital, Garran, ACT, Australia.']\n",
            "AUID\t['ORCID: https://orcid.org/0000-0002-4953-4500', 'ORCID: https://orcid.org/0000-0003-3351-6911']\n",
            "LA\t['eng']\n",
            "PT\t['Journal Article', 'Review']\n",
            "DEP\t20180403\n",
            "PL\tEngland\n",
            "TA\tAustralas Psychiatry\n",
            "JT\tAustralasian psychiatry : bulletin of Royal Australian and New Zealand College of Psychiatrists\n",
            "JID\t9613603\n",
            "SB\tIM\n",
            "MH\t['*Alzheimer Disease/diagnosis/epidemiology/physiopathology', 'Humans']\n",
            "OTO\t['NOTNLM']\n",
            "OT\t[\"Alzheimer's disease\", 'behavioural and psychological symptoms of dementia', 'diagnosis', 'neuropsychiatric symptoms', 'pathophysiology', 'psychiatry']\n",
            "EDAT\t2018/04/05 06:00\n",
            "MHDA\t2019/04/06 06:00\n",
            "CRDT\t['2018/04/05 06:00']\n",
            "PHST\t['2018/04/05 06:00 [pubmed]', '2019/04/06 06:00 [medline]', '2018/04/05 06:00 [entrez]']\n",
            "AID\t['10.1177/1039856218762308 [doi]']\n",
            "PST\tppublish\n",
            "SO\tAustralas Psychiatry. 2018 Aug;26(4):347-357. doi: 10.1177/1039856218762308. Epub 2018 Apr 3.\n"
          ]
        }
      ]
    },
    {
      "cell_type": "code",
      "source": [
        "data_dict.get('MH', 'NONE')"
      ],
      "metadata": {
        "colab": {
          "base_uri": "https://localhost:8080/"
        },
        "id": "DLseqGKJAxAQ",
        "outputId": "5e4f1d9c-7129-4ca2-c4c7-03e0611cf7fe"
      },
      "execution_count": 10,
      "outputs": [
        {
          "output_type": "execute_result",
          "data": {
            "text/plain": [
              "['*Alzheimer Disease/diagnosis/epidemiology/physiopathology', 'Humans']"
            ]
          },
          "metadata": {},
          "execution_count": 10
        }
      ]
    },
    {
      "cell_type": "markdown",
      "source": [
        "## Biological Named-entity recognition (BioNER)"
      ],
      "metadata": {
        "id": "uCNymwruWXqk"
      }
    },
    {
      "cell_type": "markdown",
      "source": [
        "Biomedical named entity recognition (BioNER) is an important and challenging task for understanding biomedical texts. It aims to recognize named entities (NEs), such as diseases, gene, species, etc., in biomedical texts and plays an important role in many downstream natural language processing (NLP) tasks, such as drug-drug interaction task and knowledge base completion"
      ],
      "metadata": {
        "id": "bbdI-rspYyjT"
      }
    },
    {
      "cell_type": "code",
      "source": [
        "!pip install -q nxviz\n",
        "!pip install -q scispacy\n",
        "!pip install -q https://s3-us-west-2.amazonaws.com/ai2-s2-scispacy/releases/v0.4.0/en_ner_bc5cdr_md-0.4.0.tar.gz"
      ],
      "metadata": {
        "id": "j97FTqfGWYLB"
      },
      "execution_count": 11,
      "outputs": []
    },
    {
      "cell_type": "code",
      "source": [
        "import scispacy\n",
        "import spacy\n",
        "\n",
        "nlp = spacy.load(\"en_ner_bc5cdr_md\")"
      ],
      "metadata": {
        "id": "qGBTMc6zXU_u"
      },
      "execution_count": 12,
      "outputs": []
    },
    {
      "cell_type": "code",
      "source": [
        "abstract = data_dict.get('AB', 'NONE')"
      ],
      "metadata": {
        "id": "Miagv4Htkwky"
      },
      "execution_count": 13,
      "outputs": []
    },
    {
      "cell_type": "code",
      "source": [
        "abstract"
      ],
      "metadata": {
        "colab": {
          "base_uri": "https://localhost:8080/",
          "height": 0
        },
        "id": "JSh6ms4mk1Q_",
        "outputId": "1db0c51b-d86c-44f9-c198-a905ad1548b6"
      },
      "execution_count": 14,
      "outputs": [
        {
          "output_type": "execute_result",
          "data": {
            "application/vnd.google.colaboratory.intrinsic+json": {
              "type": "string"
            },
            "text/plain": [
              "\"OBJECTIVES: To provide a clinical update for general psychiatrists on the assessment and diagnosis of Alzheimer's disease (AD), highlighting current issues regarding epidemiology, risk factors and pathophysiology from recent relevant research findings. CONCLUSIONS: Psychiatrists can apply their skills and training in the diagnosis of AD, which is based upon a comprehensive assessment comprising history, investigations, and cognitive and functional assessment, guided by accepted diagnostic criteria.\""
            ]
          },
          "metadata": {},
          "execution_count": 14
        }
      ]
    },
    {
      "cell_type": "code",
      "source": [
        "doc = nlp(abstract)\n",
        "print(\"TEXT\", \"START\", \"END\", \"ENTITY TYPE\")\n",
        "for ent in doc.ents:\n",
        "    print(ent.text, ent.start_char, ent.end_char, ent.label_)"
      ],
      "metadata": {
        "colab": {
          "base_uri": "https://localhost:8080/"
        },
        "id": "_pXm8haLkluq",
        "outputId": "f10de5c9-2068-4e1e-edab-40a90f0f0f2b"
      },
      "execution_count": 15,
      "outputs": [
        {
          "output_type": "stream",
          "name": "stdout",
          "text": [
            "TEXT START END ENTITY TYPE\n",
            "Alzheimer's disease 102 121 DISEASE\n",
            "AD 336 338 DISEASE\n",
            "cognitive and functional assessment 427 462 DISEASE\n"
          ]
        }
      ]
    },
    {
      "cell_type": "markdown",
      "source": [
        "## Building & Visualising Graphs with Networkx & Pyvis"
      ],
      "metadata": {
        "id": "aCtd9gXvV7Zz"
      }
    },
    {
      "cell_type": "code",
      "source": [
        "!pip install -q networkx\n",
        "!pip install -q pyvis"
      ],
      "metadata": {
        "id": "veMu9qaAV8Tx"
      },
      "execution_count": 16,
      "outputs": []
    },
    {
      "cell_type": "markdown",
      "metadata": {
        "id": "9c6ee554"
      },
      "source": [
        "Create an empty graph with no nodes and no edges."
      ]
    },
    {
      "cell_type": "code",
      "source": [
        "import networkx as nx\n",
        "\n",
        "G = nx.Graph()"
      ],
      "metadata": {
        "id": "m2B-eFjvo9-b"
      },
      "execution_count": 17,
      "outputs": []
    },
    {
      "cell_type": "markdown",
      "metadata": {
        "id": "06cfe8d7"
      },
      "source": [
        "The graph G can be grown in several ways. NetworkX includes many graph generator functions and facilities to read and write graphs in many formats. To get started though we’ll look at simple manipulations. You can add one node at a time,"
      ]
    },
    {
      "cell_type": "code",
      "execution_count": 18,
      "metadata": {
        "id": "f3a884c6"
      },
      "outputs": [],
      "source": [
        "G.add_node(1)"
      ]
    },
    {
      "cell_type": "markdown",
      "metadata": {
        "id": "87168576"
      },
      "source": [
        "or add nodes from any iterable container, such as a list"
      ]
    },
    {
      "cell_type": "code",
      "execution_count": 19,
      "metadata": {
        "id": "25afe9f1"
      },
      "outputs": [],
      "source": [
        "G.add_nodes_from([2, 3, 4, 5, 6])"
      ]
    },
    {
      "cell_type": "markdown",
      "metadata": {
        "id": "cbcd02e9"
      },
      "source": [
        "By definition, a Graph is a collection of nodes (vertices) along with identified pairs of nodes (called edges, links, etc). In NetworkX, nodes can be any hashable object e.g., a text string, an image, an XML object, another Graph, a customized node object, etc."
      ]
    },
    {
      "cell_type": "code",
      "execution_count": 20,
      "metadata": {
        "id": "96a60b00"
      },
      "outputs": [],
      "source": [
        "G.add_edge(1, 2)"
      ]
    },
    {
      "cell_type": "code",
      "source": [
        "edges_list = [(1, 5), (2, 3), (2, 5), (3, 4), (4, 5), (4, 6)]\n",
        "\n",
        "G.add_edges_from(edges_list)"
      ],
      "metadata": {
        "id": "IJ03ocZ9qPiW"
      },
      "execution_count": 21,
      "outputs": []
    },
    {
      "cell_type": "code",
      "source": [
        "G.nodes()"
      ],
      "metadata": {
        "colab": {
          "base_uri": "https://localhost:8080/"
        },
        "id": "r1odmCmEouIf",
        "outputId": "81548181-9a56-4658-b115-5f5ae0ffae1d"
      },
      "execution_count": 22,
      "outputs": [
        {
          "output_type": "execute_result",
          "data": {
            "text/plain": [
              "NodeView((1, 2, 3, 4, 5, 6))"
            ]
          },
          "metadata": {},
          "execution_count": 22
        }
      ]
    },
    {
      "cell_type": "code",
      "source": [
        "G.edges()"
      ],
      "metadata": {
        "colab": {
          "base_uri": "https://localhost:8080/"
        },
        "id": "y38arbUGowCy",
        "outputId": "922fb93c-835b-4c82-929c-8fa2b528d70c"
      },
      "execution_count": 23,
      "outputs": [
        {
          "output_type": "execute_result",
          "data": {
            "text/plain": [
              "EdgeView([(1, 2), (1, 5), (2, 3), (2, 5), (3, 4), (4, 5), (4, 6)])"
            ]
          },
          "metadata": {},
          "execution_count": 23
        }
      ]
    },
    {
      "cell_type": "code",
      "source": [
        "import matplotlib.pyplot as plt\n",
        "\n",
        "nx.draw(G, with_labels=True)\n",
        "plt.show() "
      ],
      "metadata": {
        "colab": {
          "base_uri": "https://localhost:8080/",
          "height": 319
        },
        "id": "4el6a-C_pRYz",
        "outputId": "6e9b58cc-6502-4c26-960f-6524d3d7aba5"
      },
      "execution_count": 24,
      "outputs": [
        {
          "output_type": "display_data",
          "data": {
            "image/png": "[encoded data removed]",
            "text/plain": [
              "<Figure size 432x288 with 1 Axes>"
            ]
          },
          "metadata": {}
        }
      ]
    },
    {
      "cell_type": "code",
      "source": [
        "G.number_of_edges()"
      ],
      "metadata": {
        "colab": {
          "base_uri": "https://localhost:8080/"
        },
        "id": "skxjkTbSpdy0",
        "outputId": "6c3d04e3-f6a5-4041-c9f1-3a3e8e07a571"
      },
      "execution_count": 25,
      "outputs": [
        {
          "output_type": "execute_result",
          "data": {
            "text/plain": [
              "7"
            ]
          },
          "metadata": {},
          "execution_count": 25
        }
      ]
    },
    {
      "cell_type": "code",
      "execution_count": 26,
      "metadata": {
        "id": "725aebb3",
        "outputId": "bb242534-e6e8-4bed-c334-04b161148225",
        "colab": {
          "base_uri": "https://localhost:8080/"
        }
      },
      "outputs": [
        {
          "output_type": "execute_result",
          "data": {
            "text/plain": [
              "6"
            ]
          },
          "metadata": {},
          "execution_count": 26
        }
      ],
      "source": [
        "G.number_of_nodes()"
      ]
    },
    {
      "cell_type": "code",
      "execution_count": 27,
      "metadata": {
        "id": "38c6c458",
        "outputId": "470e324a-3284-49b2-e9e8-1aa48d461d23",
        "colab": {
          "base_uri": "https://localhost:8080/"
        }
      },
      "outputs": [
        {
          "output_type": "execute_result",
          "data": {
            "text/plain": [
              "[1, 2, 4]"
            ]
          },
          "metadata": {},
          "execution_count": 27
        }
      ],
      "source": [
        "list(G.neighbors(5))"
      ]
    },
    {
      "cell_type": "code",
      "execution_count": 28,
      "metadata": {
        "id": "c7783e9a",
        "outputId": "260c979f-36da-47b8-dec4-6c078f45719f",
        "colab": {
          "base_uri": "https://localhost:8080/"
        }
      },
      "outputs": [
        {
          "output_type": "execute_result",
          "data": {
            "text/plain": [
              "[5]"
            ]
          },
          "metadata": {},
          "execution_count": 28
        }
      ],
      "source": [
        "sorted(nx.common_neighbors(G, 1, 4))"
      ]
    },
    {
      "cell_type": "code",
      "execution_count": 29,
      "metadata": {
        "id": "89f80bfb",
        "outputId": "9a7b9152-c37d-4f30-a22e-bf127bf046ad",
        "colab": {
          "base_uri": "https://localhost:8080/"
        }
      },
      "outputs": [
        {
          "output_type": "stream",
          "name": "stdout",
          "text": [
            "1 [2, 5]\n",
            "2 [1, 3, 5]\n",
            "3 [2, 4]\n",
            "4 [3, 5, 6]\n",
            "5 [1, 2, 4]\n",
            "6 [4]\n"
          ]
        }
      ],
      "source": [
        "for node in G.nodes:\n",
        "    print(node, list(G.neighbors(node)))"
      ]
    },
    {
      "cell_type": "markdown",
      "source": [
        "### Abstract as Network Graph"
      ],
      "metadata": {
        "id": "drQU0kWblFTi"
      }
    },
    {
      "cell_type": "code",
      "source": [
        ""
      ],
      "metadata": {
        "id": "CUhyKL98lWBK"
      },
      "execution_count": 29,
      "outputs": []
    },
    {
      "cell_type": "markdown",
      "source": [
        "### MeSH terms as Network Graph"
      ],
      "metadata": {
        "id": "e8a5l-Fjl_IK"
      }
    },
    {
      "cell_type": "code",
      "source": [
        ""
      ],
      "metadata": {
        "id": "FN7A3ovFmCGE"
      },
      "execution_count": 29,
      "outputs": []
    },
    {
      "cell_type": "markdown",
      "source": [
        "## References\n",
        "- https://www.nlm.nih.gov/bsd/mms/medlineelements.html\n",
        "- https://hhs.github.io/meshrdf/qualifiers\n",
        "- https://www.nlm.nih.gov/mesh/introduction.html"
      ],
      "metadata": {
        "id": "9KOvh1ZwpnjR"
      }
    }
  ]
}